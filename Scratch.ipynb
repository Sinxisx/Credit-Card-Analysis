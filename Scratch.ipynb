{
 "cells": [
  {
   "cell_type": "code",
   "execution_count": 1,
   "metadata": {},
   "outputs": [],
   "source": [
    "import pandas as pd\n",
    "import numpy as np\n",
    "import oracledb\n",
    "from sqlalchemy import create_engine\n",
    "import os\n",
    "import glob\n",
    "pd.set_option('display.max_columns',100)"
   ]
  },
  {
   "cell_type": "code",
   "execution_count": 2,
   "metadata": {},
   "outputs": [],
   "source": [
    "# credentials\n",
    "username = os.environ['DBA_USR']\n",
    "password = os.environ['DBA_PW']\n",
    "dsn = '10.220.50.121:1661/ANALYTIC'"
   ]
  },
  {
   "cell_type": "code",
   "execution_count": 3,
   "metadata": {},
   "outputs": [],
   "source": [
    "# create connection\n",
    "connection = oracledb.connect(user=username, password=password, dsn=dsn)"
   ]
  },
  {
   "cell_type": "code",
   "execution_count": 4,
   "metadata": {},
   "outputs": [],
   "source": [
    "# create engine\n",
    "engine = create_engine('oracle+oracledb://', creator=lambda: connection)"
   ]
  },
  {
   "cell_type": "code",
   "execution_count": 5,
   "metadata": {},
   "outputs": [],
   "source": [
    "# create list of all dates\n",
    "allDates = ['20241031','20240930','20240829','20240731','20240628','20240531',\n",
    "            '20240430','20240329','20240229','20240131','20231229','20231130']"
   ]
  },
  {
   "cell_type": "code",
   "execution_count": null,
   "metadata": {},
   "outputs": [
    {
     "name": "stdout",
     "output_type": "stream",
     "text": [
      "20241031\n"
     ]
    }
   ],
   "source": [
    "allMLs = []\n",
    "for date in allDates:\n",
    "    # print in case of errors\n",
    "    print(date)\n",
    "\n",
    "    # open and read the file as a single buffer\n",
    "    sqlQuery = f'''WITH \n",
    "    ML AS (\n",
    "    SELECT DISTINCT AGREE_ID, GCIF_NO, CIF_NO, NOTE_NO, PRD_TP, \n",
    "    PRD_NM,PRD_SEGMENT, ORG_LMT_AMT, CURR_LMT_AMT, BAL, ORIG_INT_RT, CURR_INT_RT, OTH_CURR_INT_RT,\n",
    "    CLCT_RTNG_FCL, ALLOW_PCT, ALLOW_PCT_ADD, RESTRUCT_CD, PASTDUE_SINCE_DT, PASTDUE_DAYS, WRITE_OFF_AMT,\n",
    "    WRITE_OFF_DT, WRITE_OFF_LYN  from PDA.MASTER_LOAN\n",
    "    WHERE BASE_DT = {date}\n",
    "    AND PRD_NM LIKE '%Credit Card%'\n",
    "    AND STATUS = '00001'),\n",
    "    C360 AS (\n",
    "    SELECT DISTINCT GCIF_NO, SEGMENT, SEGMENT_FUNDING, CUST_NM, OPEN_DATE, \n",
    "    LAST_ACTIVE_DATE, CUST_TP, GENDER_CD, AGE, EMPLOYMENT_TYPE, \n",
    "    MICRO_SEGMENT, CA_BAL, CA_AVG,\n",
    "    SA_BAL, SA_AVG, TD_NOA, TD_BAL, TD_AVG,\n",
    "    SY_FUNDING_BAL, SY_FUNDING_AVG, FUNDING_NOA, FUNDING_BAL,\n",
    "    FUNDING_AVG, NOA_DORMANT, AUM, CC_PLAFOND, CC_BAL, PL_PLAFOND, \n",
    "    PLOAN_BAL, TR_PLAFOND, TR_BAL, PB_PLAFOND, PB_BAL, \n",
    "    PRK_PLAFOND, PRK_BAL, PPB_PLAFOND, PPB_BAL, BG_PLAFOND,\n",
    "    BG_BAL, LC_PLAFOND, LC_BAL, SY_LOAN_PLAFOND, SY_LOAN_BAL,\n",
    "    KPR_PLAFOND, KPR_BAL, KPM_PLAFOND, KPM_BAL, COLLECT,\n",
    "    LUM, BA_UL_BAL, BA_ALL_BAL, MF_BAL, BONDS_BAL,TRB,\n",
    "    M2U_TRX_TOTAL, M2U_TRXAMT_FIN, CRTRX_MTD, CRTRX_AMT_MTD, DBTRX_MTD,\n",
    "    DBTRX_AMT_MTD\n",
    "    FROM PDA.CUSTOMER_360\n",
    "    WHERE BASE_DT = {date}\n",
    "    )\n",
    "    SELECT * FROM ML \n",
    "    LEFT JOIN C360 \n",
    "    ON ML.GCIF_NO = C360.GCIF_NO'''\n",
    "\n",
    "    # run query and store data in df\n",
    "    ML = pd.read_sql(sqlQuery, engine) \n",
    "\n",
    "    # change column names into UPPER CASE\n",
    "    ML.columns = [x.upper() for x in ML.columns]\n",
    "\n",
    "    allMLs.append(ML)\n"
   ]
  }
 ],
 "metadata": {
  "kernelspec": {
   "display_name": "Python 3",
   "language": "python",
   "name": "python3"
  },
  "language_info": {
   "codemirror_mode": {
    "name": "ipython",
    "version": 3
   },
   "file_extension": ".py",
   "mimetype": "text/x-python",
   "name": "python",
   "nbconvert_exporter": "python",
   "pygments_lexer": "ipython3",
   "version": "3.12.5"
  }
 },
 "nbformat": 4,
 "nbformat_minor": 2
}
