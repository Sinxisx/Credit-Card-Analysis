{
 "cells": [
  {
   "cell_type": "code",
   "execution_count": 1,
   "metadata": {},
   "outputs": [],
   "source": [
    "import pandas as pd\n",
    "import numpy as np\n",
    "import oracledb\n",
    "from sqlalchemy import create_engine\n",
    "import os\n",
    "import glob\n",
    "pd.set_option('display.max_columns',100)\n",
    "import time\n",
    "import seaborn as sns\n",
    "import matplotlib.pyplot as plt"
   ]
  },
  {
   "cell_type": "markdown",
   "metadata": {},
   "source": [
    "- Bad debt: Accounts with >=30 days DPD"
   ]
  },
  {
   "cell_type": "markdown",
   "metadata": {},
   "source": [
    "# A. Query Data"
   ]
  },
  {
   "cell_type": "code",
   "execution_count": 2,
   "metadata": {},
   "outputs": [],
   "source": [
    "# credentials\n",
    "username = os.environ['DBA_USR']\n",
    "password = os.environ['DBA_PW']\n",
    "host = '10.220.50.121'\n",
    "port = '1661'\n",
    "service_name = 'ANALYTIC'"
   ]
  },
  {
   "cell_type": "code",
   "execution_count": 3,
   "metadata": {},
   "outputs": [],
   "source": [
    "connection_string = f'oracle+oracledb://{username}:{password}@{host}:{port}/?service_name={service_name}'"
   ]
  },
  {
   "cell_type": "code",
   "execution_count": 4,
   "metadata": {},
   "outputs": [],
   "source": [
    "# create engine\n",
    "engine = create_engine(connection_string)"
   ]
  },
  {
   "cell_type": "code",
   "execution_count": 5,
   "metadata": {},
   "outputs": [],
   "source": [
    "# create list of all dates\n",
    "allDates = ['20241031','20240930','20240829','20240731','20240628','20240531',\n",
    "            '20240430','20240328','20240229','20240131','20231229','20231130']\n",
    "# no dpd for <202404"
   ]
  },
  {
   "cell_type": "code",
   "execution_count": 6,
   "metadata": {},
   "outputs": [],
   "source": [
    "# open sql file 360\n",
    "with open(\"CCPull_CUST360.sql\", 'r') as file:\n",
    "    query_360 = file.read()\n",
    "\n",
    "# open sql PORTFOLIO\n",
    "with open(\"CCPull_CUSTPORT.sql\", 'r') as file:\n",
    "    query_PORTFOLIO = file.read()"
   ]
  },
  {
   "cell_type": "code",
   "execution_count": 7,
   "metadata": {},
   "outputs": [],
   "source": [
    "# print(query_template.format(dt='20241031'))"
   ]
  },
  {
   "cell_type": "code",
   "execution_count": 8,
   "metadata": {},
   "outputs": [
    {
     "name": "stdout",
     "output_type": "stream",
     "text": [
      "Running 20241031\n",
      "SQL run\n",
      "20241031 queried successfully\n",
      "Running 20240930\n",
      "SQL run\n",
      "20240930 queried successfully\n",
      "Running 20240829\n",
      "SQL run\n",
      "20240829 queried successfully\n",
      "Running 20240731\n",
      "SQL run\n",
      "20240731 queried successfully\n",
      "Running 20240628\n",
      "SQL run\n",
      "20240628 queried successfully\n",
      "Running 20240531\n",
      "SQL run\n",
      "20240531 queried successfully\n",
      "Running 20240430\n",
      "SQL run\n",
      "20240430 queried successfully\n",
      "Running 20240328\n",
      "SQL run\n",
      "20240328 queried successfully\n",
      "Running 20240229\n",
      "SQL run\n",
      "20240229 queried successfully\n",
      "Running 20240131\n",
      "SQL run\n",
      "20240131 queried successfully\n",
      "Running 20231229\n",
      "SQL run\n",
      "20231229 queried successfully\n",
      "Running 20231130\n",
      "SQL run\n",
      "20231130 queried successfully\n"
     ]
    }
   ],
   "source": [
    "allMLs = []\n",
    "for date in allDates:\n",
    "    yearmonth = date[2:6]\n",
    "    if int(date) > 20240329:\n",
    "        try:\n",
    "            # print in case of errors\n",
    "            print(f'Running {date}')\n",
    "\n",
    "            # open and read the file as a single buffer\n",
    "            sqlQuery = query_360.format(dt=date)\n",
    "\n",
    "            # run query and store data in df\n",
    "            print('SQL run')\n",
    "            with engine.connect() as connection:\n",
    "                ML = pd.read_sql(sqlQuery, connection) \n",
    "            print(f'{date} queried successfully')\n",
    "\n",
    "            # change column names into UPPER CASE\n",
    "            ML.columns = [x.upper() for x in ML.columns]\n",
    "        except Exception as e:\n",
    "            print(e)\n",
    "            ML = pd.DataFrame()\n",
    "        finally:\n",
    "            allMLs.append(ML)\n",
    "\n",
    "            time.sleep(5)\n",
    "    else:\n",
    "        try:\n",
    "            # print in case of errors\n",
    "            print(f'Running {date}')\n",
    "\n",
    "            # open and read the file as a single buffer\n",
    "            sqlQuery = query_PORTFOLIO.format(dt=date, ym=yearmonth)\n",
    "\n",
    "            # run query and store data in df\n",
    "            print('SQL run')\n",
    "            with engine.connect() as connection:\n",
    "                ML = pd.read_sql(sqlQuery, connection) \n",
    "            print(f'{date} queried successfully')\n",
    "\n",
    "            # change column names into UPPER CASE\n",
    "            ML.columns = [x.upper() for x in ML.columns]\n",
    "        except Exception as e:\n",
    "            print(e)\n",
    "            ML = pd.DataFrame()\n",
    "        finally:\n",
    "            allMLs.append(ML)\n",
    "\n",
    "            time.sleep(5)"
   ]
  },
  {
   "cell_type": "code",
   "execution_count": 25,
   "metadata": {},
   "outputs": [
    {
     "name": "stdout",
     "output_type": "stream",
     "text": [
      "<class 'pandas.core.frame.DataFrame'>\n",
      "RangeIndex: 182350 entries, 0 to 182349\n",
      "Data columns (total 79 columns):\n",
      " #   Column            Non-Null Count   Dtype         \n",
      "---  ------            --------------   -----         \n",
      " 0   BASE_DT           182350 non-null  object        \n",
      " 1   AGREE_ID          182350 non-null  object        \n",
      " 2   GCIF_NO           182350 non-null  object        \n",
      " 3   CIF_NO            182350 non-null  object        \n",
      " 4   NOTE_NO           182350 non-null  object        \n",
      " 5   PRD_TP            182350 non-null  object        \n",
      " 6   PRD_NM            182350 non-null  object        \n",
      " 7   PRD_SEGMENT       182350 non-null  object        \n",
      " 8   ORG_LMT_AMT       182350 non-null  float64       \n",
      " 9   CURR_LMT_AMT      182350 non-null  float64       \n",
      " 10  BAL               182350 non-null  float64       \n",
      " 11  ORIG_INT_RT       182350 non-null  float64       \n",
      " 12  CURR_INT_RT       182350 non-null  float64       \n",
      " 13  OTH_CURR_INT_RT   182350 non-null  float64       \n",
      " 14  CLCT_RTNG_FCL     182350 non-null  object        \n",
      " 15  ALLOW_PCT         182350 non-null  float64       \n",
      " 16  ALLOW_PCT_ADD     182350 non-null  float64       \n",
      " 17  RESTRUCT_CD       182350 non-null  object        \n",
      " 18  PASTDUE_SINCE_DT  182350 non-null  object        \n",
      " 19  PASTDUE_DAYS      182350 non-null  int64         \n",
      " 20  WRITE_OFF_AMT     182350 non-null  float64       \n",
      " 21  WRITE_OFF_DT      0 non-null       object        \n",
      " 22  WRITE_OFF_YN      182350 non-null  object        \n",
      " 23  CC_STATUS         179212 non-null  object        \n",
      " 24  GCIF_NO           177942 non-null  object        \n",
      " 25  SEGMENT           114717 non-null  object        \n",
      " 26  CUST_NM           177942 non-null  object        \n",
      " 27  OPEN_DATE         177942 non-null  object        \n",
      " 28  LAST_ACTIVE_DATE  124955 non-null  datetime64[ns]\n",
      " 29  CUST_TP           177942 non-null  object        \n",
      " 30  GENDER_CD         174333 non-null  object        \n",
      " 31  AGE               177855 non-null  float64       \n",
      " 32  SAGA_FLAG         177942 non-null  object        \n",
      " 33  EMPLOYMENT_TYPE   176747 non-null  object        \n",
      " 34  CA_BAL            177942 non-null  float64       \n",
      " 35  CA_AVG            177942 non-null  float64       \n",
      " 36  SA_BAL            177942 non-null  float64       \n",
      " 37  SA_AVG            177942 non-null  float64       \n",
      " 38  TD_NOA            177942 non-null  float64       \n",
      " 39  TD_BAL            177942 non-null  float64       \n",
      " 40  TD_AVG            177942 non-null  float64       \n",
      " 41  SY_FUNDING_BAL    177942 non-null  float64       \n",
      " 42  SY_FUNDING_AVG    177942 non-null  float64       \n",
      " 43  FUNDING_NOA       177942 non-null  float64       \n",
      " 44  FUNDING_BAL       177942 non-null  float64       \n",
      " 45  FUNDING_AVG       177942 non-null  float64       \n",
      " 46  NOA_DORMANT       114717 non-null  float64       \n",
      " 47  CC_PLAFOND        177942 non-null  float64       \n",
      " 48  CC_BAL            177942 non-null  float64       \n",
      " 49  PL_PLAFOND        177942 non-null  float64       \n",
      " 50  PLOAN_BAL         177942 non-null  float64       \n",
      " 51  TR_PLAFOND        177942 non-null  float64       \n",
      " 52  TR_BAL            177942 non-null  float64       \n",
      " 53  PB_PLAFOND        177942 non-null  float64       \n",
      " 54  PB_BAL            177942 non-null  float64       \n",
      " 55  PRK_PLAFOND       177942 non-null  float64       \n",
      " 56  PRK_BAL           177942 non-null  float64       \n",
      " 57  PPB_PLAFOND       177942 non-null  float64       \n",
      " 58  PPB_BAL           177942 non-null  float64       \n",
      " 59  BG_PLAFOND        177942 non-null  float64       \n",
      " 60  BG_BAL            177942 non-null  float64       \n",
      " 61  LC_PLAFOND        177942 non-null  float64       \n",
      " 62  LC_BAL            177942 non-null  float64       \n",
      " 63  SY_LOAN_PLAFOND   177942 non-null  float64       \n",
      " 64  SY_LOAN_BAL       177942 non-null  float64       \n",
      " 65  KPR_PLAFOND       177942 non-null  float64       \n",
      " 66  KPR_BAL           177942 non-null  float64       \n",
      " 67  KPM_PLAFOND       177942 non-null  float64       \n",
      " 68  KPM_BAL           177942 non-null  float64       \n",
      " 69  COLLECT           177942 non-null  float64       \n",
      " 70  MF_BAL            177942 non-null  float64       \n",
      " 71  BONDS_BAL         177942 non-null  float64       \n",
      " 72  TRB               177942 non-null  float64       \n",
      " 73  M2U_TRX_TOTAL     177942 non-null  float64       \n",
      " 74  M2U_TRXAMT_FIN    177942 non-null  float64       \n",
      " 75  CRTRX_MTD         177942 non-null  float64       \n",
      " 76  CRTRX_AMT_MTD     177942 non-null  float64       \n",
      " 77  DBTRX_MTD         177942 non-null  float64       \n",
      " 78  DBTRX_AMT_MTD     177942 non-null  float64       \n",
      "dtypes: datetime64[ns](1), float64(55), int64(1), object(22)\n",
      "memory usage: 109.9+ MB\n"
     ]
    }
   ],
   "source": [
    "allMLs[7].info()"
   ]
  },
  {
   "cell_type": "markdown",
   "metadata": {},
   "source": [
    "# B. EDA"
   ]
  },
  {
   "cell_type": "code",
   "execution_count": 26,
   "metadata": {},
   "outputs": [],
   "source": [
    "# concat all MLs into one\n",
    "MLs = pd.concat(allMLs, ignore_index=True)"
   ]
  },
  {
   "cell_type": "code",
   "execution_count": 27,
   "metadata": {},
   "outputs": [
    {
     "name": "stdout",
     "output_type": "stream",
     "text": [
      "<class 'pandas.core.frame.DataFrame'>\n",
      "RangeIndex: 2177450 entries, 0 to 2177449\n",
      "Data columns (total 79 columns):\n",
      " #   Column            Dtype         \n",
      "---  ------            -----         \n",
      " 0   BASE_DT           object        \n",
      " 1   AGREE_ID          object        \n",
      " 2   GCIF_NO           object        \n",
      " 3   CIF_NO            object        \n",
      " 4   NOTE_NO           object        \n",
      " 5   PRD_TP            object        \n",
      " 6   PRD_NM            object        \n",
      " 7   PRD_SEGMENT       object        \n",
      " 8   ORG_LMT_AMT       float64       \n",
      " 9   CURR_LMT_AMT      float64       \n",
      " 10  BAL               float64       \n",
      " 11  ORIG_INT_RT       float64       \n",
      " 12  CURR_INT_RT       float64       \n",
      " 13  OTH_CURR_INT_RT   float64       \n",
      " 14  CLCT_RTNG_FCL     object        \n",
      " 15  ALLOW_PCT         float64       \n",
      " 16  ALLOW_PCT_ADD     float64       \n",
      " 17  RESTRUCT_CD       object        \n",
      " 18  PASTDUE_SINCE_DT  object        \n",
      " 19  PASTDUE_DAYS      int64         \n",
      " 20  WRITE_OFF_AMT     float64       \n",
      " 21  WRITE_OFF_DT      object        \n",
      " 22  WRITE_OFF_YN      object        \n",
      " 23  CC_STATUS         object        \n",
      " 24  GCIF_NO           object        \n",
      " 25  SEGMENT           object        \n",
      " 26  CUST_NM           object        \n",
      " 27  OPEN_DATE         object        \n",
      " 28  LAST_ACTIVE_DATE  datetime64[ns]\n",
      " 29  CUST_TP           object        \n",
      " 30  GENDER_CD         object        \n",
      " 31  AGE               float64       \n",
      " 32  SAGA_FLAG         object        \n",
      " 33  EMPLOYMENT_TYPE   object        \n",
      " 34  CA_BAL            float64       \n",
      " 35  CA_AVG            float64       \n",
      " 36  SA_BAL            float64       \n",
      " 37  SA_AVG            float64       \n",
      " 38  TD_NOA            float64       \n",
      " 39  TD_BAL            float64       \n",
      " 40  TD_AVG            float64       \n",
      " 41  SY_FUNDING_BAL    float64       \n",
      " 42  SY_FUNDING_AVG    float64       \n",
      " 43  FUNDING_NOA       float64       \n",
      " 44  FUNDING_BAL       float64       \n",
      " 45  FUNDING_AVG       float64       \n",
      " 46  NOA_DORMANT       float64       \n",
      " 47  CC_PLAFOND        float64       \n",
      " 48  CC_BAL            float64       \n",
      " 49  PL_PLAFOND        float64       \n",
      " 50  PLOAN_BAL         float64       \n",
      " 51  TR_PLAFOND        float64       \n",
      " 52  TR_BAL            float64       \n",
      " 53  PB_PLAFOND        float64       \n",
      " 54  PB_BAL            float64       \n",
      " 55  PRK_PLAFOND       float64       \n",
      " 56  PRK_BAL           float64       \n",
      " 57  PPB_PLAFOND       float64       \n",
      " 58  PPB_BAL           float64       \n",
      " 59  BG_PLAFOND        float64       \n",
      " 60  BG_BAL            float64       \n",
      " 61  LC_PLAFOND        float64       \n",
      " 62  LC_BAL            float64       \n",
      " 63  SY_LOAN_PLAFOND   float64       \n",
      " 64  SY_LOAN_BAL       float64       \n",
      " 65  KPR_PLAFOND       float64       \n",
      " 66  KPR_BAL           float64       \n",
      " 67  KPM_PLAFOND       float64       \n",
      " 68  KPM_BAL           float64       \n",
      " 69  COLLECT           float64       \n",
      " 70  MF_BAL            float64       \n",
      " 71  BONDS_BAL         float64       \n",
      " 72  TRB               float64       \n",
      " 73  M2U_TRX_TOTAL     float64       \n",
      " 74  M2U_TRXAMT_FIN    float64       \n",
      " 75  CRTRX_MTD         float64       \n",
      " 76  CRTRX_AMT_MTD     float64       \n",
      " 77  DBTRX_MTD         float64       \n",
      " 78  DBTRX_AMT_MTD     float64       \n",
      "dtypes: datetime64[ns](1), float64(55), int64(1), object(22)\n",
      "memory usage: 1.3+ GB\n"
     ]
    }
   ],
   "source": [
    "MLs.info()"
   ]
  },
  {
   "cell_type": "code",
   "execution_count": 28,
   "metadata": {},
   "outputs": [
    {
     "data": {
      "text/plain": [
       "Index(['BASE_DT', 'AGREE_ID', 'GCIF_NO', 'CIF_NO', 'NOTE_NO', 'PRD_TP',\n",
       "       'PRD_NM', 'PRD_SEGMENT', 'ORG_LMT_AMT', 'CURR_LMT_AMT', 'BAL',\n",
       "       'ORIG_INT_RT', 'CURR_INT_RT', 'OTH_CURR_INT_RT', 'CLCT_RTNG_FCL',\n",
       "       'ALLOW_PCT', 'ALLOW_PCT_ADD', 'RESTRUCT_CD', 'PASTDUE_SINCE_DT',\n",
       "       'PASTDUE_DAYS', 'WRITE_OFF_AMT', 'WRITE_OFF_DT', 'WRITE_OFF_YN',\n",
       "       'CC_STATUS', 'GCIF_NO', 'SEGMENT', 'CUST_NM', 'OPEN_DATE',\n",
       "       'LAST_ACTIVE_DATE', 'CUST_TP', 'GENDER_CD', 'AGE', 'SAGA_FLAG',\n",
       "       'EMPLOYMENT_TYPE', 'CA_BAL', 'CA_AVG', 'SA_BAL', 'SA_AVG', 'TD_NOA',\n",
       "       'TD_BAL', 'TD_AVG', 'SY_FUNDING_BAL', 'SY_FUNDING_AVG', 'FUNDING_NOA',\n",
       "       'FUNDING_BAL', 'FUNDING_AVG', 'NOA_DORMANT', 'CC_PLAFOND', 'CC_BAL',\n",
       "       'PL_PLAFOND', 'PLOAN_BAL', 'TR_PLAFOND', 'TR_BAL', 'PB_PLAFOND',\n",
       "       'PB_BAL', 'PRK_PLAFOND', 'PRK_BAL', 'PPB_PLAFOND', 'PPB_BAL',\n",
       "       'BG_PLAFOND', 'BG_BAL', 'LC_PLAFOND', 'LC_BAL', 'SY_LOAN_PLAFOND',\n",
       "       'SY_LOAN_BAL', 'KPR_PLAFOND', 'KPR_BAL', 'KPM_PLAFOND', 'KPM_BAL',\n",
       "       'COLLECT', 'MF_BAL', 'BONDS_BAL', 'TRB', 'M2U_TRX_TOTAL',\n",
       "       'M2U_TRXAMT_FIN', 'CRTRX_MTD', 'CRTRX_AMT_MTD', 'DBTRX_MTD',\n",
       "       'DBTRX_AMT_MTD'],\n",
       "      dtype='object')"
      ]
     },
     "execution_count": 28,
     "metadata": {},
     "output_type": "execute_result"
    }
   ],
   "source": [
    "MLs.columns"
   ]
  },
  {
   "cell_type": "code",
   "execution_count": 29,
   "metadata": {},
   "outputs": [],
   "source": [
    "MLs = MLs.loc[:, ~MLs.columns.duplicated()].copy()"
   ]
  },
  {
   "cell_type": "code",
   "execution_count": 30,
   "metadata": {},
   "outputs": [
    {
     "data": {
      "text/plain": [
       "SAGA_FLAG\n",
       "NON-SAGA    1209373\n",
       "SAGA         941609\n",
       "Name: count, dtype: int64"
      ]
     },
     "execution_count": 30,
     "metadata": {},
     "output_type": "execute_result"
    }
   ],
   "source": [
    "MLs['SAGA_FLAG'].value_counts()"
   ]
  },
  {
   "cell_type": "markdown",
   "metadata": {},
   "source": [
    "## 1. SAGA total monthly bad debt"
   ]
  },
  {
   "cell_type": "code",
   "execution_count": 31,
   "metadata": {},
   "outputs": [],
   "source": [
    "# SAGA delinquency count\n",
    "SAGADeliCount = MLs[(MLs['CC_STATUS']=='DELINQUENT') & (MLs['SAGA_FLAG']=='SAGA')][['BASE_DT']].value_counts()\n",
    "\n",
    "# Convert to DataFrame\n",
    "SAGADeliCount = SAGADeliCount.reset_index()\n",
    "SAGADeliCount.columns = ['BASE_DT', 'ACCT_COUNT']\n",
    "SAGADeliCount['MICRO_SEGMENT'] = 'SAGA'\n",
    "SAGADeliCount.sort_values(by=['BASE_DT'], inplace=True)\n",
    "SAGADeliCount['BASE_DT'] = SAGADeliCount['BASE_DT'].str[2:6]"
   ]
  },
  {
   "cell_type": "code",
   "execution_count": 32,
   "metadata": {},
   "outputs": [],
   "source": [
    "# Total delinquency count\n",
    "TotalDeliCount = MLs[(MLs['CC_STATUS']=='DELINQUENT')][['BASE_DT']].value_counts()\n",
    "\n",
    "# Convert to DataFrame\n",
    "TotalDeliCount = TotalDeliCount.reset_index()\n",
    "TotalDeliCount.columns = ['BASE_DT', 'ACCT_COUNT']\n",
    "TotalDeliCount['MICRO_SEGMENT'] = 'ALL'\n",
    "TotalDeliCount.sort_values(by=['BASE_DT'], inplace=True)\n",
    "TotalDeliCount['BASE_DT'] = TotalDeliCount['BASE_DT'].str[2:6]"
   ]
  },
  {
   "cell_type": "code",
   "execution_count": 33,
   "metadata": {},
   "outputs": [],
   "source": [
    "AllDeliCount = pd.concat([SAGADeliCount, TotalDeliCount], ignore_index=True)"
   ]
  },
  {
   "cell_type": "code",
   "execution_count": 34,
   "metadata": {},
   "outputs": [
    {
     "data": {
      "text/plain": [
       "<Axes: title={'center': 'DELINQUENCY_COUNT'}, xlabel='BASE_DT', ylabel='COUNT'>"
      ]
     },
     "execution_count": 34,
     "metadata": {},
     "output_type": "execute_result"
    },
    {
     "data": {
      "image/png": "[encoded data removed]",
      "text/plain": [
       "<Figure size 1000x600 with 1 Axes>"
      ]
     },
     "metadata": {},
     "output_type": "display_data"
    }
   ],
   "source": [
    "# Plotting\n",
    "plt.figure(figsize=(10,6))\n",
    "plt.title(\"DELINQUENCY_COUNT\")\n",
    "plt.xlabel(\"BASE_DT\")\n",
    "plt.ylabel(\"COUNT\")\n",
    "sns.lineplot(data=AllDeliCount, x=\"BASE_DT\", y='ACCT_COUNT', hue='MICRO_SEGMENT', marker=\"o\")"
   ]
  },
  {
   "cell_type": "markdown",
   "metadata": {},
   "source": [
    "## 2. SAGA monthly new bad debt"
   ]
  },
  {
   "cell_type": "code",
   "execution_count": 57,
   "metadata": {},
   "outputs": [],
   "source": [
    "# set dataframe for dpd change calculation\n",
    "DPDMonthly = MLs[['BASE_DT', 'AGREE_ID', 'PASTDUE_DAYS']].reset_index()"
   ]
  },
  {
   "cell_type": "code",
   "execution_count": 58,
   "metadata": {},
   "outputs": [
    {
     "data": {
      "text/plain": [
       "PASTDUE_DAYS\n",
       "0      2108866\n",
       "1        40809\n",
       "30       10727\n",
       "60        6189\n",
       "90        4365\n",
       "120       3585\n",
       "150       2842\n",
       "210         62\n",
       "180          5\n",
       "Name: count, dtype: int64"
      ]
     },
     "execution_count": 58,
     "metadata": {},
     "output_type": "execute_result"
    }
   ],
   "source": [
    "# checking pastdue values\n",
    "DPDMonthly['PASTDUE_DAYS'].value_counts()"
   ]
  },
  {
   "cell_type": "code",
   "execution_count": 59,
   "metadata": {},
   "outputs": [],
   "source": [
    "# create pivot table\n",
    "DPDMonthlyPivot = DPDMonthly.pivot(index='AGREE_ID',\n",
    "                                   columns='BASE_DT',\n",
    "                                   values='PASTDUE_DAYS')"
   ]
  },
  {
   "cell_type": "code",
   "execution_count": 60,
   "metadata": {},
   "outputs": [],
   "source": [
    "# flaten columns\n",
    "DPDMonthlyPivot = DPDMonthlyPivot.rename_axis(index=None, columns=None).reset_index()"
   ]
  },
  {
   "cell_type": "code",
   "execution_count": 61,
   "metadata": {},
   "outputs": [
    {
     "data": {
      "text/plain": [
       "Index(['index', '20231130', '20231229', '20240131', '20240229', '20240328',\n",
       "       '20240430', '20240531', '20240628', '20240731', '20240829', '20240930',\n",
       "       '20241031'],\n",
       "      dtype='object')"
      ]
     },
     "execution_count": 61,
     "metadata": {},
     "output_type": "execute_result"
    }
   ],
   "source": [
    "DPDMonthlyPivot.columns"
   ]
  },
  {
   "cell_type": "code",
   "execution_count": 62,
   "metadata": {},
   "outputs": [],
   "source": [
    "# rename columns\n",
    "DPDMonthlyPivot.columns = [\n",
    "    'AGREE_ID', '20231130', '20231229', '20240131', '20240229', '20240328',\n",
    "    '20240430', '20240531', '20240628', '20240731', '20240829', '20240930',\n",
    "    '20241031']"
   ]
  },
  {
   "cell_type": "code",
   "execution_count": 65,
   "metadata": {},
   "outputs": [],
   "source": [
    "# fillna with 0\n",
    "DPDMonthlyPivot.fillna(0, inplace=True)\n",
    "\n",
    "# date for loop\n",
    "dateCol = ['20231130', '20231229', '20240131', '20240229', '20240328',\n",
    "    '20240430', '20240531', '20240628', '20240731', '20240829', '20240930',\n",
    "    '20241031']\n",
    "# calculate dpd change for all dates\n",
    "for i in range(1,len(dateCol)):\n",
    "    prevDate = dateCol[i-1]\n",
    "    date = dateCol[i]\n",
    "    DPDMonthlyPivot[f'DELINQUENT_{date}'] = DPDMonthlyPivot.apply(\n",
    "        lambda x: 1 if x[prevDate]<30 and x[date]>=30 else 0,\n",
    "        axis=1)"
   ]
  },
  {
   "cell_type": "code",
   "execution_count": 67,
   "metadata": {},
   "outputs": [
    {
     "data": {
      "text/plain": [
       "DELINQUENT_20240430\n",
       "0                      255118\n",
       "1                         579\n",
       "Name: count, dtype: int64"
      ]
     },
     "execution_count": 67,
     "metadata": {},
     "output_type": "execute_result"
    }
   ],
   "source": [
    "# test value\n",
    "DPDMonthlyPivot[['DELINQUENT_20240430']].value_counts()"
   ]
  },
  {
   "cell_type": "code",
   "execution_count": 82,
   "metadata": {},
   "outputs": [],
   "source": [
    "# take only used cols\n",
    "usedCols = [list(DPDMonthlyPivot.columns)[0]]+list(DPDMonthlyPivot.columns)[13:]\n",
    "DPDMonthlyPivot = DPDMonthlyPivot[usedCols]"
   ]
  },
  {
   "cell_type": "code",
   "execution_count": 83,
   "metadata": {},
   "outputs": [],
   "source": [
    "# longify\n",
    "DPDMonthlyLong = pd.wide_to_long(DPDMonthlyPivot,\n",
    "                                 stubnames='DELINQUENT',\n",
    "                                 i = 'AGREE_ID',\n",
    "                                 j = 'BASE_DT',\n",
    "                                 sep = '_')"
   ]
  },
  {
   "cell_type": "code",
   "execution_count": 88,
   "metadata": {},
   "outputs": [],
   "source": [
    "# reset index and change base_dt type to string\n",
    "DPDMonthlyLong = DPDMonthlyLong.reset_index()\n",
    "DPDMonthlyLong['BASE_DT'] = DPDMonthlyLong['BASE_DT'].astype(str)"
   ]
  },
  {
   "cell_type": "code",
   "execution_count": 89,
   "metadata": {},
   "outputs": [
    {
     "name": "stdout",
     "output_type": "stream",
     "text": [
      "<class 'pandas.core.frame.DataFrame'>\n",
      "RangeIndex: 2812667 entries, 0 to 2812666\n",
      "Data columns (total 4 columns):\n",
      " #   Column      Dtype \n",
      "---  ------      ----- \n",
      " 0   index       int64 \n",
      " 1   AGREE_ID    object\n",
      " 2   BASE_DT     object\n",
      " 3   DELINQUENT  int64 \n",
      "dtypes: int64(2), object(2)\n",
      "memory usage: 85.8+ MB\n"
     ]
    }
   ],
   "source": [
    "DPDMonthlyLong.info()"
   ]
  },
  {
   "cell_type": "code",
   "execution_count": null,
   "metadata": {},
   "outputs": [],
   "source": [
    "# merge delinquency flag to original data\n",
    "MLs = MLs.merge(DPDMonthlyLong[['AGREE_ID', 'BASE_DT', 'DELINQUENT']], on=['AGREE_ID', 'BASE_DT'], how='left')"
   ]
  },
  {
   "cell_type": "code",
   "execution_count": 91,
   "metadata": {},
   "outputs": [
    {
     "name": "stdout",
     "output_type": "stream",
     "text": [
      "<class 'pandas.core.frame.DataFrame'>\n",
      "RangeIndex: 2177450 entries, 0 to 2177449\n",
      "Data columns (total 79 columns):\n",
      " #   Column            Dtype         \n",
      "---  ------            -----         \n",
      " 0   BASE_DT           object        \n",
      " 1   AGREE_ID          object        \n",
      " 2   GCIF_NO           object        \n",
      " 3   CIF_NO            object        \n",
      " 4   NOTE_NO           object        \n",
      " 5   PRD_TP            object        \n",
      " 6   PRD_NM            object        \n",
      " 7   PRD_SEGMENT       object        \n",
      " 8   ORG_LMT_AMT       float64       \n",
      " 9   CURR_LMT_AMT      float64       \n",
      " 10  BAL               float64       \n",
      " 11  ORIG_INT_RT       float64       \n",
      " 12  CURR_INT_RT       float64       \n",
      " 13  OTH_CURR_INT_RT   float64       \n",
      " 14  CLCT_RTNG_FCL     object        \n",
      " 15  ALLOW_PCT         float64       \n",
      " 16  ALLOW_PCT_ADD     float64       \n",
      " 17  RESTRUCT_CD       object        \n",
      " 18  PASTDUE_SINCE_DT  object        \n",
      " 19  PASTDUE_DAYS      int64         \n",
      " 20  WRITE_OFF_AMT     float64       \n",
      " 21  WRITE_OFF_DT      object        \n",
      " 22  WRITE_OFF_YN      object        \n",
      " 23  CC_STATUS         object        \n",
      " 24  SEGMENT           object        \n",
      " 25  CUST_NM           object        \n",
      " 26  OPEN_DATE         object        \n",
      " 27  LAST_ACTIVE_DATE  datetime64[ns]\n",
      " 28  CUST_TP           object        \n",
      " 29  GENDER_CD         object        \n",
      " 30  AGE               float64       \n",
      " 31  SAGA_FLAG         object        \n",
      " 32  EMPLOYMENT_TYPE   object        \n",
      " 33  CA_BAL            float64       \n",
      " 34  CA_AVG            float64       \n",
      " 35  SA_BAL            float64       \n",
      " 36  SA_AVG            float64       \n",
      " 37  TD_NOA            float64       \n",
      " 38  TD_BAL            float64       \n",
      " 39  TD_AVG            float64       \n",
      " 40  SY_FUNDING_BAL    float64       \n",
      " 41  SY_FUNDING_AVG    float64       \n",
      " 42  FUNDING_NOA       float64       \n",
      " 43  FUNDING_BAL       float64       \n",
      " 44  FUNDING_AVG       float64       \n",
      " 45  NOA_DORMANT       float64       \n",
      " 46  CC_PLAFOND        float64       \n",
      " 47  CC_BAL            float64       \n",
      " 48  PL_PLAFOND        float64       \n",
      " 49  PLOAN_BAL         float64       \n",
      " 50  TR_PLAFOND        float64       \n",
      " 51  TR_BAL            float64       \n",
      " 52  PB_PLAFOND        float64       \n",
      " 53  PB_BAL            float64       \n",
      " 54  PRK_PLAFOND       float64       \n",
      " 55  PRK_BAL           float64       \n",
      " 56  PPB_PLAFOND       float64       \n",
      " 57  PPB_BAL           float64       \n",
      " 58  BG_PLAFOND        float64       \n",
      " 59  BG_BAL            float64       \n",
      " 60  LC_PLAFOND        float64       \n",
      " 61  LC_BAL            float64       \n",
      " 62  SY_LOAN_PLAFOND   float64       \n",
      " 63  SY_LOAN_BAL       float64       \n",
      " 64  KPR_PLAFOND       float64       \n",
      " 65  KPR_BAL           float64       \n",
      " 66  KPM_PLAFOND       float64       \n",
      " 67  KPM_BAL           float64       \n",
      " 68  COLLECT           float64       \n",
      " 69  MF_BAL            float64       \n",
      " 70  BONDS_BAL         float64       \n",
      " 71  TRB               float64       \n",
      " 72  M2U_TRX_TOTAL     float64       \n",
      " 73  M2U_TRXAMT_FIN    float64       \n",
      " 74  CRTRX_MTD         float64       \n",
      " 75  CRTRX_AMT_MTD     float64       \n",
      " 76  DBTRX_MTD         float64       \n",
      " 77  DBTRX_AMT_MTD     float64       \n",
      " 78  DELINQUENT        float64       \n",
      "dtypes: datetime64[ns](1), float64(56), int64(1), object(21)\n",
      "memory usage: 1.3+ GB\n"
     ]
    }
   ],
   "source": [
    "MLs.info()"
   ]
  },
  {
   "cell_type": "markdown",
   "metadata": {},
   "source": [
    "1. Hitung total bad debt SAGA all month\n",
    "2. Bandingkan bad debt SAGA vs all other CC\n",
    "2. Bandingkan "
   ]
  }
 ],
 "metadata": {
  "kernelspec": {
   "display_name": "Python 3",
   "language": "python",
   "name": "python3"
  },
  "language_info": {
   "codemirror_mode": {
    "name": "ipython",
    "version": 3
   },
   "file_extension": ".py",
   "mimetype": "text/x-python",
   "name": "python",
   "nbconvert_exporter": "python",
   "pygments_lexer": "ipython3",
   "version": "3.12.5"
  }
 },
 "nbformat": 4,
 "nbformat_minor": 2
}
