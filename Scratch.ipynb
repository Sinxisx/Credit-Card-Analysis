{
 "cells": [
  {
   "cell_type": "code",
   "execution_count": 1,
   "metadata": {},
   "outputs": [],
   "source": [
    "import pandas as pd\n",
    "import numpy as np\n",
    "import oracledb\n",
    "from sqlalchemy import create_engine\n",
    "import os\n",
    "import glob\n",
    "pd.set_option('display.max_columns',100)\n",
    "import time"
   ]
  },
  {
   "cell_type": "markdown",
   "metadata": {},
   "source": [
    "# A. Query Data"
   ]
  },
  {
   "cell_type": "code",
   "execution_count": 2,
   "metadata": {},
   "outputs": [],
   "source": [
    "# credentials\n",
    "username = os.environ['DBA_USR']\n",
    "password = os.environ['DBA_PW']\n",
    "host = '10.220.50.121'\n",
    "port = '1661'\n",
    "service_name = 'ANALYTIC'"
   ]
  },
  {
   "cell_type": "code",
   "execution_count": 3,
   "metadata": {},
   "outputs": [],
   "source": [
    "connection_string = f'oracle+oracledb://{username}:{password}@{host}:{port}/?service_name={service_name}'"
   ]
  },
  {
   "cell_type": "code",
   "execution_count": 4,
   "metadata": {},
   "outputs": [],
   "source": [
    "# create engine\n",
    "engine = create_engine(connection_string)"
   ]
  },
  {
   "cell_type": "code",
   "execution_count": 5,
   "metadata": {},
   "outputs": [],
   "source": [
    "# create list of all dates\n",
    "allDates = ['20241031','20240930','20240829','20240731','20240628','20240531',\n",
    "            '20240430','20240329','20240229','20240131','20231229','20231130']"
   ]
  },
  {
   "cell_type": "code",
   "execution_count": null,
   "metadata": {},
   "outputs": [
    {
     "name": "stdout",
     "output_type": "stream",
     "text": [
      "Running 20241031\n",
      "SQL run\n",
      "20241031 queried successfully\n",
      "Running 20240930\n",
      "SQL run\n",
      "20240930 queried successfully\n",
      "Running 20240829\n",
      "SQL run\n",
      "20240829 queried successfully\n",
      "Running 20240731\n",
      "SQL run\n",
      "20240731 queried successfully\n",
      "Running 20240628\n",
      "SQL run\n",
      "20240628 queried successfully\n",
      "Running 20240531\n",
      "SQL run\n",
      "20240531 queried successfully\n",
      "Running 20240430\n",
      "SQL run\n",
      "20240430 queried successfully\n",
      "Running 20240329\n",
      "SQL run\n",
      "20240329 queried successfully\n",
      "Running 20240229\n",
      "SQL run\n",
      "20240229 queried successfully\n",
      "Running 20240131\n",
      "SQL run\n",
      "20240131 queried successfully\n",
      "Running 20231229\n",
      "SQL run\n",
      "20231229 queried successfully\n",
      "Running 20231130\n",
      "SQL run\n",
      "20231130 queried successfully\n"
     ]
    }
   ],
   "source": [
    "allMLs = []\n",
    "for date in allDates:\n",
    "    try:\n",
    "        # print in case of errors\n",
    "        print(f'Running {date}')\n",
    "\n",
    "        # open and read the file as a single buffer\n",
    "        sqlQuery = f'''WITH \n",
    "ML AS (\n",
    "SELECT DISTINCT BASE_DT, AGREE_ID, GCIF_NO, CIF_NO, NOTE_NO, PRD_TP, \n",
    "PRD_NM,PRD_SEGMENT, ORG_LMT_AMT, CURR_LMT_AMT, BAL, ORIG_INT_RT, CURR_INT_RT, OTH_CURR_INT_RT,\n",
    "CLCT_RTNG_FCL, ALLOW_PCT, ALLOW_PCT_ADD, RESTRUCT_CD, PASTDUE_SINCE_DT, PASTDUE_DAYS, WRITE_OFF_AMT,\n",
    "WRITE_OFF_DT, WRITE_OFF_YN  from PDA.MASTER_LOAN\n",
    "WHERE BASE_DT = {date}\n",
    "AND PRD_NM LIKE '%Credit Card%'\n",
    "AND STATUS = '00001'),\n",
    "C360 AS (\n",
    "SELECT DISTINCT GCIF_NO, SEGMENT, SEGMENT_FUNDING, CUST_NM, OPEN_DATE, \n",
    "LAST_ACTIVE_DATE, CUST_TP, GENDER_CD, AGE, EMPLOYMENT_TYPE, \n",
    "MICRO_SEGMENT, CA_BAL, CA_AVG,\n",
    "SA_BAL, SA_AVG, TD_NOA, TD_BAL, TD_AVG,\n",
    "SY_FUNDING_BAL, SY_FUNDING_AVG, FUNDING_NOA, FUNDING_BAL,\n",
    "FUNDING_AVG, NOA_DORMANT, AUM, CC_PLAFOND, CC_BAL, PL_PLAFOND, \n",
    "PLOAN_BAL, TR_PLAFOND, TR_BAL, PB_PLAFOND, PB_BAL, \n",
    "PRK_PLAFOND, PRK_BAL, PPB_PLAFOND, PPB_BAL, BG_PLAFOND,\n",
    "BG_BAL, LC_PLAFOND, LC_BAL, SY_LOAN_PLAFOND, SY_LOAN_BAL,\n",
    "KPR_PLAFOND, KPR_BAL, KPM_PLAFOND, KPM_BAL, COLLECT,\n",
    "LUM, BA_UL_BAL, BA_ALL_BAL, MF_BAL, BONDS_BAL,TRB,\n",
    "M2U_TRX_TOTAL, M2U_TRXAMT_FIN, CRTRX_MTD, CRTRX_AMT_MTD, DBTRX_MTD,\n",
    "DBTRX_AMT_MTD\n",
    "FROM PDA.CUSTOMER_360\n",
    "WHERE BASE_DT = {date}\n",
    ")\n",
    "SELECT *,\n",
    "CASE WHEN PASTDUE_SINCE_DT = 0 THEN 'PERFORMING'\n",
    "WHEN PASTDUE_SINCE_DT > 1 AND PASTDUE_SINCE_DT <= 30 THEN 'GRACE PERIOD'\n",
    "WHEN PASTDUE_SINCE_DT > 30 THEN 'DELINQUENT'\n",
    "END AS CC_STATUS\n",
    "FROM ML LEFT JOIN C360 ON ML.GCIF_NO = C360.GCIF_NO'''\n",
    "\n",
    "        # run query and store data in df\n",
    "        with engine.connect() as connection:\n",
    "            ML = pd.read_sql(sqlQuery, connection) \n",
    "        print('SQL run')\n",
    "\n",
    "        # change column names into UPPER CASE\n",
    "        ML.columns = [x.upper() for x in ML.columns]\n",
    "    except Exception as e:\n",
    "        print(e)\n",
    "        ML = pd.DataFrame()\n",
    "    finally:\n",
    "        allMLs.append(ML)\n",
    "        print(f'{date} queried successfully')\n",
    "        time.sleep(5)"
   ]
  },
  {
   "cell_type": "code",
   "execution_count": 7,
   "metadata": {},
   "outputs": [],
   "source": [
    "# sqlQuery = f'''WITH \n",
    "# ML AS (\n",
    "# SELECT DISTINCT AGREE_ID, GCIF_NO, CIF_NO, NOTE_NO, PRD_TP, \n",
    "# PRD_NM,PRD_SEGMENT, ORG_LMT_AMT, CURR_LMT_AMT, BAL, ORIG_INT_RT, CURR_INT_RT, OTH_CURR_INT_RT,\n",
    "# CLCT_RTNG_FCL, ALLOW_PCT, ALLOW_PCT_ADD, RESTRUCT_CD, PASTDUE_SINCE_DT, PASTDUE_DAYS, WRITE_OFF_AMT,\n",
    "# WRITE_OFF_DT, WRITE_OFF_YN  from PDA.MASTER_LOAN\n",
    "# WHERE BASE_DT = '20241031'\n",
    "# AND PRD_NM LIKE '%Credit Card%'\n",
    "# AND STATUS = '00001'),\n",
    "# C360 AS (\n",
    "# SELECT DISTINCT GCIF_NO, SEGMENT, SEGMENT_FUNDING, CUST_NM, OPEN_DATE, \n",
    "# LAST_ACTIVE_DATE, CUST_TP, GENDER_CD, AGE, EMPLOYMENT_TYPE, \n",
    "# MICRO_SEGMENT, CA_BAL, CA_AVG,\n",
    "# SA_BAL, SA_AVG, TD_NOA, TD_BAL, TD_AVG,\n",
    "# SY_FUNDING_BAL, SY_FUNDING_AVG, FUNDING_NOA, FUNDING_BAL,\n",
    "# FUNDING_AVG, NOA_DORMANT, AUM, CC_PLAFOND, CC_BAL, PL_PLAFOND, \n",
    "# PLOAN_BAL, TR_PLAFOND, TR_BAL, PB_PLAFOND, PB_BAL, \n",
    "# PRK_PLAFOND, PRK_BAL, PPB_PLAFOND, PPB_BAL, BG_PLAFOND,\n",
    "# BG_BAL, LC_PLAFOND, LC_BAL, SY_LOAN_PLAFOND, SY_LOAN_BAL,\n",
    "# KPR_PLAFOND, KPR_BAL, KPM_PLAFOND, KPM_BAL, COLLECT,\n",
    "# LUM, BA_UL_BAL, BA_ALL_BAL, MF_BAL, BONDS_BAL,TRB,\n",
    "# M2U_TRX_TOTAL, M2U_TRXAMT_FIN, CRTRX_MTD, CRTRX_AMT_MTD, DBTRX_MTD,\n",
    "# DBTRX_AMT_MTD\n",
    "# FROM PDA.CUSTOMER_360\n",
    "# WHERE BASE_DT = '20241031'\n",
    "# )\n",
    "# SELECT * FROM ML \n",
    "# LEFT JOIN C360 \n",
    "# ON ML.GCIF_NO = C360.GCIF_NO'''\n",
    "\n",
    "# # run query and store data in df\n",
    "# with engine.connect() as connection:\n",
    "#   ML = pd.read_sql(sqlQuery, connection) \n",
    "\n",
    "# # change column names into UPPER CASE\n",
    "# ML.columns = [x.upper() for x in ML.columns]"
   ]
  },
  {
   "cell_type": "markdown",
   "metadata": {},
   "source": [
    "# B. EDA"
   ]
  },
  {
   "cell_type": "code",
   "execution_count": 8,
   "metadata": {},
   "outputs": [
    {
     "name": "stderr",
     "output_type": "stream",
     "text": [
      "C:\\Users\\MR38804\\AppData\\Local\\Temp\\ipykernel_14232\\416592903.py:2: FutureWarning: The behavior of DataFrame concatenation with empty or all-NA entries is deprecated. In a future version, this will no longer exclude empty or all-NA columns when determining the result dtypes. To retain the old behavior, exclude the relevant entries before the concat operation.\n",
      "  MLs = pd.concat(allMLs, ignore_index=True)\n"
     ]
    }
   ],
   "source": [
    "# concat all MLs into one\n",
    "MLs = pd.concat(allMLs, ignore_index=True)"
   ]
  },
  {
   "cell_type": "code",
   "execution_count": 9,
   "metadata": {},
   "outputs": [
    {
     "name": "stdout",
     "output_type": "stream",
     "text": [
      "<class 'pandas.core.frame.DataFrame'>\n",
      "RangeIndex: 1995100 entries, 0 to 1995099\n",
      "Data columns (total 83 columns):\n",
      " #   Column            Dtype         \n",
      "---  ------            -----         \n",
      " 0   BASE_DT           object        \n",
      " 1   AGREE_ID          object        \n",
      " 2   GCIF_NO           object        \n",
      " 3   CIF_NO            object        \n",
      " 4   NOTE_NO           object        \n",
      " 5   PRD_TP            object        \n",
      " 6   PRD_NM            object        \n",
      " 7   PRD_SEGMENT       object        \n",
      " 8   ORG_LMT_AMT       float64       \n",
      " 9   CURR_LMT_AMT      float64       \n",
      " 10  BAL               float64       \n",
      " 11  ORIG_INT_RT       float64       \n",
      " 12  CURR_INT_RT       float64       \n",
      " 13  OTH_CURR_INT_RT   float64       \n",
      " 14  CLCT_RTNG_FCL     object        \n",
      " 15  ALLOW_PCT         float64       \n",
      " 16  ALLOW_PCT_ADD     float64       \n",
      " 17  RESTRUCT_CD       object        \n",
      " 18  PASTDUE_SINCE_DT  object        \n",
      " 19  PASTDUE_DAYS      object        \n",
      " 20  WRITE_OFF_AMT     float64       \n",
      " 21  WRITE_OFF_DT      object        \n",
      " 22  WRITE_OFF_YN      object        \n",
      " 23  GCIF_NO           object        \n",
      " 24  SEGMENT           object        \n",
      " 25  SEGMENT_FUNDING   object        \n",
      " 26  CUST_NM           object        \n",
      " 27  OPEN_DATE         datetime64[ns]\n",
      " 28  LAST_ACTIVE_DATE  datetime64[ns]\n",
      " 29  CUST_TP           object        \n",
      " 30  GENDER_CD         object        \n",
      " 31  AGE               float64       \n",
      " 32  EMPLOYMENT_TYPE   object        \n",
      " 33  MICRO_SEGMENT     object        \n",
      " 34  CA_BAL            float64       \n",
      " 35  CA_AVG            float64       \n",
      " 36  SA_BAL            float64       \n",
      " 37  SA_AVG            float64       \n",
      " 38  TD_NOA            float64       \n",
      " 39  TD_BAL            float64       \n",
      " 40  TD_AVG            float64       \n",
      " 41  SY_FUNDING_BAL    float64       \n",
      " 42  SY_FUNDING_AVG    float64       \n",
      " 43  FUNDING_NOA       float64       \n",
      " 44  FUNDING_BAL       float64       \n",
      " 45  FUNDING_AVG       float64       \n",
      " 46  NOA_DORMANT       float64       \n",
      " 47  AUM               float64       \n",
      " 48  CC_PLAFOND        float64       \n",
      " 49  CC_BAL            float64       \n",
      " 50  PL_PLAFOND        float64       \n",
      " 51  PLOAN_BAL         float64       \n",
      " 52  TR_PLAFOND        float64       \n",
      " 53  TR_BAL            float64       \n",
      " 54  PB_PLAFOND        float64       \n",
      " 55  PB_BAL            float64       \n",
      " 56  PRK_PLAFOND       float64       \n",
      " 57  PRK_BAL           float64       \n",
      " 58  PPB_PLAFOND       float64       \n",
      " 59  PPB_BAL           float64       \n",
      " 60  BG_PLAFOND        float64       \n",
      " 61  BG_BAL            float64       \n",
      " 62  LC_PLAFOND        float64       \n",
      " 63  LC_BAL            float64       \n",
      " 64  SY_LOAN_PLAFOND   float64       \n",
      " 65  SY_LOAN_BAL       float64       \n",
      " 66  KPR_PLAFOND       float64       \n",
      " 67  KPR_BAL           float64       \n",
      " 68  KPM_PLAFOND       float64       \n",
      " 69  KPM_BAL           float64       \n",
      " 70  COLLECT           float64       \n",
      " 71  LUM               float64       \n",
      " 72  BA_UL_BAL         float64       \n",
      " 73  BA_ALL_BAL        float64       \n",
      " 74  MF_BAL            float64       \n",
      " 75  BONDS_BAL         float64       \n",
      " 76  TRB               float64       \n",
      " 77  M2U_TRX_TOTAL     float64       \n",
      " 78  M2U_TRXAMT_FIN    float64       \n",
      " 79  CRTRX_MTD         float64       \n",
      " 80  CRTRX_AMT_MTD     float64       \n",
      " 81  DBTRX_MTD         float64       \n",
      " 82  DBTRX_AMT_MTD     float64       \n",
      "dtypes: datetime64[ns](2), float64(59), object(22)\n",
      "memory usage: 1.2+ GB\n"
     ]
    }
   ],
   "source": [
    "MLs.info()"
   ]
  },
  {
   "cell_type": "code",
   "execution_count": 10,
   "metadata": {},
   "outputs": [
    {
     "data": {
      "text/plain": [
       "Index(['BASE_DT', 'AGREE_ID', 'GCIF_NO', 'CIF_NO', 'NOTE_NO', 'PRD_TP',\n",
       "       'PRD_NM', 'PRD_SEGMENT', 'ORG_LMT_AMT', 'CURR_LMT_AMT', 'BAL',\n",
       "       'ORIG_INT_RT', 'CURR_INT_RT', 'OTH_CURR_INT_RT', 'CLCT_RTNG_FCL',\n",
       "       'ALLOW_PCT', 'ALLOW_PCT_ADD', 'RESTRUCT_CD', 'PASTDUE_SINCE_DT',\n",
       "       'PASTDUE_DAYS', 'WRITE_OFF_AMT', 'WRITE_OFF_DT', 'WRITE_OFF_YN',\n",
       "       'GCIF_NO', 'SEGMENT', 'SEGMENT_FUNDING', 'CUST_NM', 'OPEN_DATE',\n",
       "       'LAST_ACTIVE_DATE', 'CUST_TP', 'GENDER_CD', 'AGE', 'EMPLOYMENT_TYPE',\n",
       "       'MICRO_SEGMENT', 'CA_BAL', 'CA_AVG', 'SA_BAL', 'SA_AVG', 'TD_NOA',\n",
       "       'TD_BAL', 'TD_AVG', 'SY_FUNDING_BAL', 'SY_FUNDING_AVG', 'FUNDING_NOA',\n",
       "       'FUNDING_BAL', 'FUNDING_AVG', 'NOA_DORMANT', 'AUM', 'CC_PLAFOND',\n",
       "       'CC_BAL', 'PL_PLAFOND', 'PLOAN_BAL', 'TR_PLAFOND', 'TR_BAL',\n",
       "       'PB_PLAFOND', 'PB_BAL', 'PRK_PLAFOND', 'PRK_BAL', 'PPB_PLAFOND',\n",
       "       'PPB_BAL', 'BG_PLAFOND', 'BG_BAL', 'LC_PLAFOND', 'LC_BAL',\n",
       "       'SY_LOAN_PLAFOND', 'SY_LOAN_BAL', 'KPR_PLAFOND', 'KPR_BAL',\n",
       "       'KPM_PLAFOND', 'KPM_BAL', 'COLLECT', 'LUM', 'BA_UL_BAL', 'BA_ALL_BAL',\n",
       "       'MF_BAL', 'BONDS_BAL', 'TRB', 'M2U_TRX_TOTAL', 'M2U_TRXAMT_FIN',\n",
       "       'CRTRX_MTD', 'CRTRX_AMT_MTD', 'DBTRX_MTD', 'DBTRX_AMT_MTD'],\n",
       "      dtype='object')"
      ]
     },
     "execution_count": 10,
     "metadata": {},
     "output_type": "execute_result"
    }
   ],
   "source": [
    "MLs.columns"
   ]
  },
  {
   "cell_type": "markdown",
   "metadata": {},
   "source": [
    "## 1. SAGA total monthly bad debt"
   ]
  },
  {
   "cell_type": "code",
   "execution_count": null,
   "metadata": {},
   "outputs": [],
   "source": [
    "monthly = pd.pivot_table(MLs, \n",
    "                         values=['GCIF_NO','CURR_LMT_AMT','BAL'],\n",
    "                         index=['BASE_DT'],\n",
    "                         columns=['']\n",
    "                         aggfunc={'GCIF_NO':'count',\n",
    "                                  'CURR_LMT_AMT':'sum'})"
   ]
  },
  {
   "cell_type": "markdown",
   "metadata": {},
   "source": [
    "1. Hitung total bad debt SAGA all month\n",
    "2. Bandingkan bad debt SAGA vs all other CC\n",
    "2. Bandingkan "
   ]
  }
 ],
 "metadata": {
  "kernelspec": {
   "display_name": "Python 3",
   "language": "python",
   "name": "python3"
  },
  "language_info": {
   "codemirror_mode": {
    "name": "ipython",
    "version": 3
   },
   "file_extension": ".py",
   "mimetype": "text/x-python",
   "name": "python",
   "nbconvert_exporter": "python",
   "pygments_lexer": "ipython3",
   "version": "3.12.5"
  }
 },
 "nbformat": 4,
 "nbformat_minor": 2
}
