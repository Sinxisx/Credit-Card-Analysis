{
 "cells": [
  {
   "cell_type": "code",
   "execution_count": 1,
   "metadata": {},
   "outputs": [],
   "source": [
    "import pandas as pd\n",
    "import numpy as np\n",
    "import oracledb\n",
    "from sqlalchemy import create_engine\n",
    "import os\n",
    "import glob\n",
    "pd.set_option('display.max_columns',100)\n",
    "import time\n",
    "import seaborn as sns\n",
    "import matplotlib.pyplot as plt"
   ]
  },
  {
   "cell_type": "markdown",
   "metadata": {},
   "source": [
    "- Bad debt: Accounts with >=30 days DPD"
   ]
  },
  {
   "cell_type": "markdown",
   "metadata": {},
   "source": [
    "# A. Query Data"
   ]
  },
  {
   "cell_type": "code",
   "execution_count": 2,
   "metadata": {},
   "outputs": [],
   "source": [
    "# credentials\n",
    "username = os.environ['DBA_USR']\n",
    "password = os.environ['DBA_PW']\n",
    "host = '10.220.50.121'\n",
    "port = '1661'\n",
    "service_name = 'ANALYTIC'"
   ]
  },
  {
   "cell_type": "code",
   "execution_count": 3,
   "metadata": {},
   "outputs": [],
   "source": [
    "connection_string = f'oracle+oracledb://{username}:{password}@{host}:{port}/?service_name={service_name}'"
   ]
  },
  {
   "cell_type": "code",
   "execution_count": 4,
   "metadata": {},
   "outputs": [],
   "source": [
    "# create engine\n",
    "engine = create_engine(connection_string)"
   ]
  },
  {
   "cell_type": "code",
   "execution_count": 5,
   "metadata": {},
   "outputs": [],
   "source": [
    "# create list of all dates\n",
    "allDates = ['20241031','20240930','20240829','20240731','20240628','20240531',\n",
    "            '20240430','20240328','20240229','20240131','20231229','20231130']\n",
    "# no dpd for <202404"
   ]
  },
  {
   "cell_type": "code",
   "execution_count": 6,
   "metadata": {},
   "outputs": [],
   "source": [
    "# open sql file 360\n",
    "with open(\"CCPull_CUST360.sql\", 'r') as file:\n",
    "    query_360 = file.read()\n",
    "\n",
    "# open sql PORTFOLIO\n",
    "with open(\"CCPull_CUSTPORT.sql\", 'r') as file:\n",
    "    query_PORTFOLIO = file.read()"
   ]
  },
  {
   "cell_type": "code",
   "execution_count": 7,
   "metadata": {},
   "outputs": [],
   "source": [
    "# print(query_template.format(dt='20241031'))"
   ]
  },
  {
   "cell_type": "code",
   "execution_count": 8,
   "metadata": {},
   "outputs": [
    {
     "name": "stdout",
     "output_type": "stream",
     "text": [
      "Running 20241031\n",
      "SQL run\n",
      "20241031 queried successfully\n",
      "Running 20240930\n",
      "SQL run\n",
      "20240930 queried successfully\n",
      "Running 20240829\n",
      "SQL run\n",
      "20240829 queried successfully\n",
      "Running 20240731\n",
      "SQL run\n",
      "20240731 queried successfully\n",
      "Running 20240628\n",
      "SQL run\n",
      "20240628 queried successfully\n",
      "Running 20240531\n",
      "SQL run\n",
      "20240531 queried successfully\n",
      "Running 20240430\n",
      "SQL run\n",
      "20240430 queried successfully\n",
      "Running 20240328\n",
      "SQL run\n",
      "20240328 queried successfully\n",
      "Running 20240229\n",
      "SQL run\n",
      "20240229 queried successfully\n",
      "Running 20240131\n",
      "SQL run\n",
      "20240131 queried successfully\n",
      "Running 20231229\n",
      "SQL run\n",
      "20231229 queried successfully\n",
      "Running 20231130\n",
      "SQL run\n",
      "20231130 queried successfully\n"
     ]
    }
   ],
   "source": [
    "allMLs = []\n",
    "for date in allDates:\n",
    "    yearmonth = date[2:6]\n",
    "    if int(date) > 20240329:\n",
    "        try:\n",
    "            # print in case of errors\n",
    "            print(f'Running {date}')\n",
    "\n",
    "            # open and read the file as a single buffer\n",
    "            sqlQuery = query_360.format(dt=date)\n",
    "\n",
    "            # run query and store data in df\n",
    "            print('SQL run')\n",
    "            with engine.connect() as connection:\n",
    "                ML = pd.read_sql(sqlQuery, connection) \n",
    "            print(f'{date} queried successfully')\n",
    "\n",
    "            # change column names into UPPER CASE\n",
    "            ML.columns = [x.upper() for x in ML.columns]\n",
    "        except Exception as e:\n",
    "            print(e)\n",
    "            ML = pd.DataFrame()\n",
    "        finally:\n",
    "            allMLs.append(ML)\n",
    "\n",
    "            time.sleep(5)\n",
    "    else:\n",
    "        try:\n",
    "            # print in case of errors\n",
    "            print(f'Running {date}')\n",
    "\n",
    "            # open and read the file as a single buffer\n",
    "            sqlQuery = query_PORTFOLIO.format(dt=date, ym=yearmonth)\n",
    "\n",
    "            # run query and store data in df\n",
    "            print('SQL run')\n",
    "            with engine.connect() as connection:\n",
    "                ML = pd.read_sql(sqlQuery, connection) \n",
    "            print(f'{date} queried successfully')\n",
    "\n",
    "            # change column names into UPPER CASE\n",
    "            ML.columns = [x.upper() for x in ML.columns]\n",
    "        except Exception as e:\n",
    "            print(e)\n",
    "            ML = pd.DataFrame()\n",
    "        finally:\n",
    "            allMLs.append(ML)\n",
    "\n",
    "            time.sleep(5)"
   ]
  },
  {
   "cell_type": "code",
   "execution_count": 25,
   "metadata": {},
   "outputs": [
    {
     "name": "stdout",
     "output_type": "stream",
     "text": [
      "<class 'pandas.core.frame.DataFrame'>\n",
      "RangeIndex: 182350 entries, 0 to 182349\n",
      "Data columns (total 79 columns):\n",
      " #   Column            Non-Null Count   Dtype         \n",
      "---  ------            --------------   -----         \n",
      " 0   BASE_DT           182350 non-null  object        \n",
      " 1   AGREE_ID          182350 non-null  object        \n",
      " 2   GCIF_NO           182350 non-null  object        \n",
      " 3   CIF_NO            182350 non-null  object        \n",
      " 4   NOTE_NO           182350 non-null  object        \n",
      " 5   PRD_TP            182350 non-null  object        \n",
      " 6   PRD_NM            182350 non-null  object        \n",
      " 7   PRD_SEGMENT       182350 non-null  object        \n",
      " 8   ORG_LMT_AMT       182350 non-null  float64       \n",
      " 9   CURR_LMT_AMT      182350 non-null  float64       \n",
      " 10  BAL               182350 non-null  float64       \n",
      " 11  ORIG_INT_RT       182350 non-null  float64       \n",
      " 12  CURR_INT_RT       182350 non-null  float64       \n",
      " 13  OTH_CURR_INT_RT   182350 non-null  float64       \n",
      " 14  CLCT_RTNG_FCL     182350 non-null  object        \n",
      " 15  ALLOW_PCT         182350 non-null  float64       \n",
      " 16  ALLOW_PCT_ADD     182350 non-null  float64       \n",
      " 17  RESTRUCT_CD       182350 non-null  object        \n",
      " 18  PASTDUE_SINCE_DT  182350 non-null  object        \n",
      " 19  PASTDUE_DAYS      182350 non-null  int64         \n",
      " 20  WRITE_OFF_AMT     182350 non-null  float64       \n",
      " 21  WRITE_OFF_DT      0 non-null       object        \n",
      " 22  WRITE_OFF_YN      182350 non-null  object        \n",
      " 23  CC_STATUS         179212 non-null  object        \n",
      " 24  GCIF_NO           177942 non-null  object        \n",
      " 25  SEGMENT           114717 non-null  object        \n",
      " 26  CUST_NM           177942 non-null  object        \n",
      " 27  OPEN_DATE         177942 non-null  object        \n",
      " 28  LAST_ACTIVE_DATE  124955 non-null  datetime64[ns]\n",
      " 29  CUST_TP           177942 non-null  object        \n",
      " 30  GENDER_CD         174333 non-null  object        \n",
      " 31  AGE               177855 non-null  float64       \n",
      " 32  SAGA_FLAG         177942 non-null  object        \n",
      " 33  EMPLOYMENT_TYPE   176747 non-null  object        \n",
      " 34  CA_BAL            177942 non-null  float64       \n",
      " 35  CA_AVG            177942 non-null  float64       \n",
      " 36  SA_BAL            177942 non-null  float64       \n",
      " 37  SA_AVG            177942 non-null  float64       \n",
      " 38  TD_NOA            177942 non-null  float64       \n",
      " 39  TD_BAL            177942 non-null  float64       \n",
      " 40  TD_AVG            177942 non-null  float64       \n",
      " 41  SY_FUNDING_BAL    177942 non-null  float64       \n",
      " 42  SY_FUNDING_AVG    177942 non-null  float64       \n",
      " 43  FUNDING_NOA       177942 non-null  float64       \n",
      " 44  FUNDING_BAL       177942 non-null  float64       \n",
      " 45  FUNDING_AVG       177942 non-null  float64       \n",
      " 46  NOA_DORMANT       114717 non-null  float64       \n",
      " 47  CC_PLAFOND        177942 non-null  float64       \n",
      " 48  CC_BAL            177942 non-null  float64       \n",
      " 49  PL_PLAFOND        177942 non-null  float64       \n",
      " 50  PLOAN_BAL         177942 non-null  float64       \n",
      " 51  TR_PLAFOND        177942 non-null  float64       \n",
      " 52  TR_BAL            177942 non-null  float64       \n",
      " 53  PB_PLAFOND        177942 non-null  float64       \n",
      " 54  PB_BAL            177942 non-null  float64       \n",
      " 55  PRK_PLAFOND       177942 non-null  float64       \n",
      " 56  PRK_BAL           177942 non-null  float64       \n",
      " 57  PPB_PLAFOND       177942 non-null  float64       \n",
      " 58  PPB_BAL           177942 non-null  float64       \n",
      " 59  BG_PLAFOND        177942 non-null  float64       \n",
      " 60  BG_BAL            177942 non-null  float64       \n",
      " 61  LC_PLAFOND        177942 non-null  float64       \n",
      " 62  LC_BAL            177942 non-null  float64       \n",
      " 63  SY_LOAN_PLAFOND   177942 non-null  float64       \n",
      " 64  SY_LOAN_BAL       177942 non-null  float64       \n",
      " 65  KPR_PLAFOND       177942 non-null  float64       \n",
      " 66  KPR_BAL           177942 non-null  float64       \n",
      " 67  KPM_PLAFOND       177942 non-null  float64       \n",
      " 68  KPM_BAL           177942 non-null  float64       \n",
      " 69  COLLECT           177942 non-null  float64       \n",
      " 70  MF_BAL            177942 non-null  float64       \n",
      " 71  BONDS_BAL         177942 non-null  float64       \n",
      " 72  TRB               177942 non-null  float64       \n",
      " 73  M2U_TRX_TOTAL     177942 non-null  float64       \n",
      " 74  M2U_TRXAMT_FIN    177942 non-null  float64       \n",
      " 75  CRTRX_MTD         177942 non-null  float64       \n",
      " 76  CRTRX_AMT_MTD     177942 non-null  float64       \n",
      " 77  DBTRX_MTD         177942 non-null  float64       \n",
      " 78  DBTRX_AMT_MTD     177942 non-null  float64       \n",
      "dtypes: datetime64[ns](1), float64(55), int64(1), object(22)\n",
      "memory usage: 109.9+ MB\n"
     ]
    }
   ],
   "source": [
    "allMLs[7].info()"
   ]
  },
  {
   "cell_type": "markdown",
   "metadata": {},
   "source": [
    "# B. EDA"
   ]
  },
  {
   "cell_type": "markdown",
   "metadata": {},
   "source": [
    "## 1. By Account"
   ]
  },
  {
   "cell_type": "code",
   "execution_count": 26,
   "metadata": {},
   "outputs": [],
   "source": [
    "# concat all MLs into one\n",
    "MLs = pd.concat(allMLs, ignore_index=True)"
   ]
  },
  {
   "cell_type": "code",
   "execution_count": null,
   "metadata": {},
   "outputs": [
    {
     "data": {
      "text/plain": [
       "Index(['BASE_DT', 'AGREE_ID', 'GCIF_NO', 'CIF_NO', 'NOTE_NO', 'PRD_TP',\n",
       "       'PRD_NM', 'PRD_SEGMENT', 'ORG_LMT_AMT', 'CURR_LMT_AMT', 'BAL',\n",
       "       'ORIG_INT_RT', 'CURR_INT_RT', 'OTH_CURR_INT_RT', 'CLCT_RTNG_FCL',\n",
       "       'ALLOW_PCT', 'ALLOW_PCT_ADD', 'RESTRUCT_CD', 'PASTDUE_SINCE_DT',\n",
       "       'PASTDUE_DAYS', 'WRITE_OFF_AMT', 'WRITE_OFF_DT', 'WRITE_OFF_YN',\n",
       "       'CC_STATUS', 'GCIF_NO', 'SEGMENT', 'CUST_NM', 'OPEN_DATE',\n",
       "       'LAST_ACTIVE_DATE', 'CUST_TP', 'GENDER_CD', 'AGE', 'SAGA_FLAG',\n",
       "       'EMPLOYMENT_TYPE', 'CA_BAL', 'CA_AVG', 'SA_BAL', 'SA_AVG', 'TD_NOA',\n",
       "       'TD_BAL', 'TD_AVG', 'SY_FUNDING_BAL', 'SY_FUNDING_AVG', 'FUNDING_NOA',\n",
       "       'FUNDING_BAL', 'FUNDING_AVG', 'NOA_DORMANT', 'CC_PLAFOND', 'CC_BAL',\n",
       "       'PL_PLAFOND', 'PLOAN_BAL', 'TR_PLAFOND', 'TR_BAL', 'PB_PLAFOND',\n",
       "       'PB_BAL', 'PRK_PLAFOND', 'PRK_BAL', 'PPB_PLAFOND', 'PPB_BAL',\n",
       "       'BG_PLAFOND', 'BG_BAL', 'LC_PLAFOND', 'LC_BAL', 'SY_LOAN_PLAFOND',\n",
       "       'SY_LOAN_BAL', 'KPR_PLAFOND', 'KPR_BAL', 'KPM_PLAFOND', 'KPM_BAL',\n",
       "       'COLLECT', 'MF_BAL', 'BONDS_BAL', 'TRB', 'M2U_TRX_TOTAL',\n",
       "       'M2U_TRXAMT_FIN', 'CRTRX_MTD', 'CRTRX_AMT_MTD', 'DBTRX_MTD',\n",
       "       'DBTRX_AMT_MTD'],\n",
       "      dtype='object')"
      ]
     },
     "execution_count": 28,
     "metadata": {},
     "output_type": "execute_result"
    }
   ],
   "source": [
    "# show all df cols\n",
    "MLs.columns"
   ]
  },
  {
   "cell_type": "code",
   "execution_count": null,
   "metadata": {},
   "outputs": [],
   "source": [
    "# drop in case of duplicated colname\n",
    "MLs = MLs.loc[:, ~MLs.columns.duplicated()].copy()"
   ]
  },
  {
   "cell_type": "code",
   "execution_count": null,
   "metadata": {},
   "outputs": [
    {
     "data": {
      "text/plain": [
       "SAGA_FLAG\n",
       "NON-SAGA    1209373\n",
       "SAGA         941609\n",
       "Name: count, dtype: int64"
      ]
     },
     "execution_count": 30,
     "metadata": {},
     "output_type": "execute_result"
    }
   ],
   "source": [
    "# check saga value count\n",
    "MLs['SAGA_FLAG'].value_counts()"
   ]
  },
  {
   "cell_type": "markdown",
   "metadata": {},
   "source": [
    "### a. SAGA vs ALL Bad Debt"
   ]
  },
  {
   "cell_type": "code",
   "execution_count": 135,
   "metadata": {},
   "outputs": [],
   "source": [
    "# SAGA delinquency aggregate\n",
    "SAGADeliCount = MLs[(MLs['CC_STATUS']=='DELINQUENT') & (MLs['SAGA_FLAG']=='SAGA')][[\n",
    "    'BASE_DT', 'AGREE_ID', 'BAL'\n",
    "]].groupby('BASE_DT').agg(ACCT_COUNT=('AGREE_ID','count'),\n",
    "                          OS=('BAL','sum')).reset_index()\n",
    "SAGADeliCount['MICRO_SEGMENT'] = 'SAGA'\n",
    "SAGADeliCount['CATEGORY'] = 'DELINQUENT'"
   ]
  },
  {
   "cell_type": "code",
   "execution_count": 197,
   "metadata": {},
   "outputs": [],
   "source": [
    "# Total delinquency aggregate\n",
    "TotalDeliCount = MLs[(MLs['CC_STATUS']=='DELINQUENT')][[\n",
    "    'BASE_DT', 'AGREE_ID', 'BAL'\n",
    "]].groupby('BASE_DT').agg(ACCT_COUNT=('AGREE_ID','count'),\n",
    "                          OS=('BAL','sum')).reset_index()\n",
    "TotalDeliCount['MICRO_SEGMENT'] = 'ALL'\n",
    "TotalDeliCount['CATEGORY'] = 'DELINQUENT'"
   ]
  },
  {
   "cell_type": "code",
   "execution_count": 117,
   "metadata": {},
   "outputs": [],
   "source": [
    "# concat deli count\n",
    "AllDeliCount = pd.concat([SAGADeliCount, TotalDeliCount], ignore_index=True)\n",
    "\n",
    "# format data\n",
    "AllDeliCount['BASE_DT'] = AllDeliCount['BASE_DT'].str[2:6]"
   ]
  },
  {
   "cell_type": "code",
   "execution_count": 128,
   "metadata": {},
   "outputs": [
    {
     "data": {
      "text/plain": [
       "<Axes: title={'center': 'DELINQUENCY_COUNT'}, xlabel='BASE_DT', ylabel='COUNT'>"
      ]
     },
     "execution_count": 128,
     "metadata": {},
     "output_type": "execute_result"
    },
    {
     "data": {
      "image/png": "[encoded data removed]",
      "text/plain": [
       "<Figure size 1000x600 with 1 Axes>"
      ]
     },
     "metadata": {},
     "output_type": "display_data"
    }
   ],
   "source": [
    "# Plot delinquency count per month\n",
    "plt.figure(figsize=(10,6))\n",
    "plt.title(\"DELINQUENCY_COUNT\")\n",
    "plt.xlabel(\"BASE_DT\")\n",
    "plt.ylabel(\"COUNT\")\n",
    "plt.ylim((0,2000))\n",
    "sns.lineplot(data=AllDeliCount, x=\"BASE_DT\", y='ACCT_COUNT', hue='MICRO_SEGMENT', marker=\"o\")"
   ]
  },
  {
   "cell_type": "code",
   "execution_count": 130,
   "metadata": {},
   "outputs": [
    {
     "data": {
      "text/plain": [
       "<Axes: title={'center': 'DELINQUENT_OS'}, xlabel='BASE_DT', ylabel='AMOUNT'>"
      ]
     },
     "execution_count": 130,
     "metadata": {},
     "output_type": "execute_result"
    },
    {
     "data": {
      "image/png": "[encoded data removed]",
      "text/plain": [
       "<Figure size 1000x600 with 1 Axes>"
      ]
     },
     "metadata": {},
     "output_type": "display_data"
    }
   ],
   "source": [
    "# Plot delinquent OS per month\n",
    "plt.figure(figsize=(10,6))\n",
    "plt.title(\"DELINQUENT_OS\")\n",
    "plt.xlabel(\"BASE_DT\")\n",
    "plt.ylabel(\"AMOUNT\")\n",
    "plt.ylim((0,50000000000))\n",
    "sns.lineplot(data=AllDeliCount, x=\"BASE_DT\", y='OS', hue='MICRO_SEGMENT', marker=\"o\")"
   ]
  },
  {
   "cell_type": "markdown",
   "metadata": {},
   "source": [
    "### b. SAGA Total vs Bad"
   ]
  },
  {
   "cell_type": "code",
   "execution_count": 201,
   "metadata": {},
   "outputs": [],
   "source": [
    "# Total delinquency aggregate\n",
    "SAGACount = MLs[(MLs['SAGA_FLAG']=='SAGA')][[\n",
    "    'BASE_DT', 'AGREE_ID', 'BAL'\n",
    "]].groupby('BASE_DT').agg(ACCT_COUNT=('AGREE_ID','count'),\n",
    "                          OS=('BAL','sum')).reset_index()\n",
    "SAGACount['MICRO_SEGMENT'] = 'SAGA'\n",
    "SAGACount['CATEGORY'] = 'ALL'"
   ]
  },
  {
   "cell_type": "code",
   "execution_count": 202,
   "metadata": {},
   "outputs": [],
   "source": [
    "# concat the data\n",
    "AllSAGACount = pd.concat([SAGADeliCount, SAGACount], ignore_index=True)\n",
    "\n",
    "# format base_dt\n",
    "AllSAGACount['BASE_DT'] = AllSAGACount['BASE_DT'].str[2:6]"
   ]
  },
  {
   "cell_type": "code",
   "execution_count": 203,
   "metadata": {},
   "outputs": [
    {
     "data": {
      "text/html": [
       "<div>\n",
       "<style scoped>\n",
       "    .dataframe tbody tr th:only-of-type {\n",
       "        vertical-align: middle;\n",
       "    }\n",
       "\n",
       "    .dataframe tbody tr th {\n",
       "        vertical-align: top;\n",
       "    }\n",
       "\n",
       "    .dataframe thead th {\n",
       "        text-align: right;\n",
       "    }\n",
       "</style>\n",
       "<table border=\"1\" class=\"dataframe\">\n",
       "  <thead>\n",
       "    <tr style=\"text-align: right;\">\n",
       "      <th></th>\n",
       "      <th>BASE_DT</th>\n",
       "      <th>ACCT_COUNT</th>\n",
       "      <th>OS</th>\n",
       "      <th>MICRO_SEGMENT</th>\n",
       "      <th>CATEGORY</th>\n",
       "    </tr>\n",
       "  </thead>\n",
       "  <tbody>\n",
       "    <tr>\n",
       "      <th>0</th>\n",
       "      <td>2311</td>\n",
       "      <td>615</td>\n",
       "      <td>1.733557e+10</td>\n",
       "      <td>SAGA</td>\n",
       "      <td>DELINQUENT</td>\n",
       "    </tr>\n",
       "    <tr>\n",
       "      <th>1</th>\n",
       "      <td>2312</td>\n",
       "      <td>607</td>\n",
       "      <td>1.853377e+10</td>\n",
       "      <td>SAGA</td>\n",
       "      <td>DELINQUENT</td>\n",
       "    </tr>\n",
       "    <tr>\n",
       "      <th>2</th>\n",
       "      <td>2401</td>\n",
       "      <td>580</td>\n",
       "      <td>1.870545e+10</td>\n",
       "      <td>SAGA</td>\n",
       "      <td>DELINQUENT</td>\n",
       "    </tr>\n",
       "    <tr>\n",
       "      <th>3</th>\n",
       "      <td>2402</td>\n",
       "      <td>575</td>\n",
       "      <td>1.905721e+10</td>\n",
       "      <td>SAGA</td>\n",
       "      <td>DELINQUENT</td>\n",
       "    </tr>\n",
       "    <tr>\n",
       "      <th>4</th>\n",
       "      <td>2403</td>\n",
       "      <td>588</td>\n",
       "      <td>1.933312e+10</td>\n",
       "      <td>SAGA</td>\n",
       "      <td>DELINQUENT</td>\n",
       "    </tr>\n",
       "    <tr>\n",
       "      <th>5</th>\n",
       "      <td>2404</td>\n",
       "      <td>620</td>\n",
       "      <td>2.132075e+10</td>\n",
       "      <td>SAGA</td>\n",
       "      <td>DELINQUENT</td>\n",
       "    </tr>\n",
       "    <tr>\n",
       "      <th>6</th>\n",
       "      <td>2405</td>\n",
       "      <td>613</td>\n",
       "      <td>2.395302e+10</td>\n",
       "      <td>SAGA</td>\n",
       "      <td>DELINQUENT</td>\n",
       "    </tr>\n",
       "    <tr>\n",
       "      <th>7</th>\n",
       "      <td>2406</td>\n",
       "      <td>606</td>\n",
       "      <td>2.294629e+10</td>\n",
       "      <td>SAGA</td>\n",
       "      <td>DELINQUENT</td>\n",
       "    </tr>\n",
       "    <tr>\n",
       "      <th>8</th>\n",
       "      <td>2407</td>\n",
       "      <td>618</td>\n",
       "      <td>2.346099e+10</td>\n",
       "      <td>SAGA</td>\n",
       "      <td>DELINQUENT</td>\n",
       "    </tr>\n",
       "    <tr>\n",
       "      <th>9</th>\n",
       "      <td>2408</td>\n",
       "      <td>559</td>\n",
       "      <td>2.170487e+10</td>\n",
       "      <td>SAGA</td>\n",
       "      <td>DELINQUENT</td>\n",
       "    </tr>\n",
       "    <tr>\n",
       "      <th>10</th>\n",
       "      <td>2409</td>\n",
       "      <td>516</td>\n",
       "      <td>1.833359e+10</td>\n",
       "      <td>SAGA</td>\n",
       "      <td>DELINQUENT</td>\n",
       "    </tr>\n",
       "    <tr>\n",
       "      <th>11</th>\n",
       "      <td>2410</td>\n",
       "      <td>484</td>\n",
       "      <td>1.952702e+10</td>\n",
       "      <td>SAGA</td>\n",
       "      <td>DELINQUENT</td>\n",
       "    </tr>\n",
       "    <tr>\n",
       "      <th>12</th>\n",
       "      <td>2311</td>\n",
       "      <td>78358</td>\n",
       "      <td>6.778613e+11</td>\n",
       "      <td>SAGA</td>\n",
       "      <td>ALL</td>\n",
       "    </tr>\n",
       "    <tr>\n",
       "      <th>13</th>\n",
       "      <td>2312</td>\n",
       "      <td>83071</td>\n",
       "      <td>7.335104e+11</td>\n",
       "      <td>SAGA</td>\n",
       "      <td>ALL</td>\n",
       "    </tr>\n",
       "    <tr>\n",
       "      <th>14</th>\n",
       "      <td>2401</td>\n",
       "      <td>81163</td>\n",
       "      <td>7.453515e+11</td>\n",
       "      <td>SAGA</td>\n",
       "      <td>ALL</td>\n",
       "    </tr>\n",
       "    <tr>\n",
       "      <th>15</th>\n",
       "      <td>2402</td>\n",
       "      <td>80489</td>\n",
       "      <td>7.567105e+11</td>\n",
       "      <td>SAGA</td>\n",
       "      <td>ALL</td>\n",
       "    </tr>\n",
       "    <tr>\n",
       "      <th>16</th>\n",
       "      <td>2403</td>\n",
       "      <td>79843</td>\n",
       "      <td>7.542105e+11</td>\n",
       "      <td>SAGA</td>\n",
       "      <td>ALL</td>\n",
       "    </tr>\n",
       "    <tr>\n",
       "      <th>17</th>\n",
       "      <td>2404</td>\n",
       "      <td>78715</td>\n",
       "      <td>7.697663e+11</td>\n",
       "      <td>SAGA</td>\n",
       "      <td>ALL</td>\n",
       "    </tr>\n",
       "    <tr>\n",
       "      <th>18</th>\n",
       "      <td>2405</td>\n",
       "      <td>78079</td>\n",
       "      <td>7.625431e+11</td>\n",
       "      <td>SAGA</td>\n",
       "      <td>ALL</td>\n",
       "    </tr>\n",
       "    <tr>\n",
       "      <th>19</th>\n",
       "      <td>2406</td>\n",
       "      <td>77752</td>\n",
       "      <td>7.833538e+11</td>\n",
       "      <td>SAGA</td>\n",
       "      <td>ALL</td>\n",
       "    </tr>\n",
       "    <tr>\n",
       "      <th>20</th>\n",
       "      <td>2407</td>\n",
       "      <td>76418</td>\n",
       "      <td>7.852823e+11</td>\n",
       "      <td>SAGA</td>\n",
       "      <td>ALL</td>\n",
       "    </tr>\n",
       "    <tr>\n",
       "      <th>21</th>\n",
       "      <td>2408</td>\n",
       "      <td>76462</td>\n",
       "      <td>7.986619e+11</td>\n",
       "      <td>SAGA</td>\n",
       "      <td>ALL</td>\n",
       "    </tr>\n",
       "    <tr>\n",
       "      <th>22</th>\n",
       "      <td>2409</td>\n",
       "      <td>75633</td>\n",
       "      <td>8.129398e+11</td>\n",
       "      <td>SAGA</td>\n",
       "      <td>ALL</td>\n",
       "    </tr>\n",
       "    <tr>\n",
       "      <th>23</th>\n",
       "      <td>2410</td>\n",
       "      <td>75626</td>\n",
       "      <td>7.933710e+11</td>\n",
       "      <td>SAGA</td>\n",
       "      <td>ALL</td>\n",
       "    </tr>\n",
       "  </tbody>\n",
       "</table>\n",
       "</div>"
      ],
      "text/plain": [
       "   BASE_DT  ACCT_COUNT            OS MICRO_SEGMENT    CATEGORY\n",
       "0     2311         615  1.733557e+10          SAGA  DELINQUENT\n",
       "1     2312         607  1.853377e+10          SAGA  DELINQUENT\n",
       "2     2401         580  1.870545e+10          SAGA  DELINQUENT\n",
       "3     2402         575  1.905721e+10          SAGA  DELINQUENT\n",
       "4     2403         588  1.933312e+10          SAGA  DELINQUENT\n",
       "5     2404         620  2.132075e+10          SAGA  DELINQUENT\n",
       "6     2405         613  2.395302e+10          SAGA  DELINQUENT\n",
       "7     2406         606  2.294629e+10          SAGA  DELINQUENT\n",
       "8     2407         618  2.346099e+10          SAGA  DELINQUENT\n",
       "9     2408         559  2.170487e+10          SAGA  DELINQUENT\n",
       "10    2409         516  1.833359e+10          SAGA  DELINQUENT\n",
       "11    2410         484  1.952702e+10          SAGA  DELINQUENT\n",
       "12    2311       78358  6.778613e+11          SAGA         ALL\n",
       "13    2312       83071  7.335104e+11          SAGA         ALL\n",
       "14    2401       81163  7.453515e+11          SAGA         ALL\n",
       "15    2402       80489  7.567105e+11          SAGA         ALL\n",
       "16    2403       79843  7.542105e+11          SAGA         ALL\n",
       "17    2404       78715  7.697663e+11          SAGA         ALL\n",
       "18    2405       78079  7.625431e+11          SAGA         ALL\n",
       "19    2406       77752  7.833538e+11          SAGA         ALL\n",
       "20    2407       76418  7.852823e+11          SAGA         ALL\n",
       "21    2408       76462  7.986619e+11          SAGA         ALL\n",
       "22    2409       75633  8.129398e+11          SAGA         ALL\n",
       "23    2410       75626  7.933710e+11          SAGA         ALL"
      ]
     },
     "execution_count": 203,
     "metadata": {},
     "output_type": "execute_result"
    }
   ],
   "source": [
    "AllSAGACount"
   ]
  },
  {
   "cell_type": "code",
   "execution_count": 204,
   "metadata": {},
   "outputs": [
    {
     "data": {
      "text/plain": [
       "<Axes: title={'center': 'SAGA_COUNT'}, xlabel='BASE_DT', ylabel='COUNT'>"
      ]
     },
     "execution_count": 204,
     "metadata": {},
     "output_type": "execute_result"
    },
    {
     "data": {
      "image/png": "[encoded data removed]",
      "text/plain": [
       "<Figure size 1000x600 with 1 Axes>"
      ]
     },
     "metadata": {},
     "output_type": "display_data"
    }
   ],
   "source": [
    "# Plot SAGA count per month\n",
    "plt.figure(figsize=(10,6))\n",
    "plt.title(\"SAGA_COUNT\")\n",
    "plt.xlabel(\"BASE_DT\")\n",
    "plt.ylabel(\"COUNT\")\n",
    "# plt.ylim((0,2000))\n",
    "sns.lineplot(data=AllSAGACount, x=\"BASE_DT\", y='ACCT_COUNT', hue='CATEGORY', marker=\"o\")"
   ]
  },
  {
   "cell_type": "code",
   "execution_count": 205,
   "metadata": {},
   "outputs": [
    {
     "data": {
      "text/plain": [
       "<Axes: title={'center': 'SAGA_OS'}, xlabel='BASE_DT', ylabel='COUNT'>"
      ]
     },
     "execution_count": 205,
     "metadata": {},
     "output_type": "execute_result"
    },
    {
     "data": {
      "image/png": "[encoded data removed]",
      "text/plain": [
       "<Figure size 1000x600 with 1 Axes>"
      ]
     },
     "metadata": {},
     "output_type": "display_data"
    }
   ],
   "source": [
    "# Plot SAGA count per month\n",
    "plt.figure(figsize=(10,6))\n",
    "plt.title(\"SAGA_OS\")\n",
    "plt.xlabel(\"BASE_DT\")\n",
    "plt.ylabel(\"COUNT\")\n",
    "# plt.ylim((0,2000))\n",
    "sns.lineplot(data=AllSAGACount, x=\"BASE_DT\", y='OS', hue='CATEGORY', marker=\"o\")"
   ]
  },
  {
   "cell_type": "code",
   "execution_count": 206,
   "metadata": {},
   "outputs": [],
   "source": [
    "# create wide df to calaculate percentage\n",
    "AllSagaCountWide = AllSAGACount[AllSAGACount['CATEGORY']=='DELINQUENT'].merge(\n",
    "    AllSAGACount[AllSAGACount['CATEGORY']=='ALL'], on='BASE_DT', how='left')"
   ]
  },
  {
   "cell_type": "code",
   "execution_count": 207,
   "metadata": {},
   "outputs": [],
   "source": [
    "# fix field names and shi\n",
    "AllSagaCountWide.columns = ['BASE_DT', 'ACCT_COUNT_DELINQUENT', 'OS_DELINQUENT','MICRO_SEGMENT_x', 'CATEGORY_x',\n",
    "       'ACCT_COUNT_ALL', 'OS_ALL', 'MICRO_SEGMENT', 'CATEGORY_y']\n",
    "AllSagaCountWide = AllSagaCountWide[['BASE_DT', 'ACCT_COUNT_DELINQUENT', 'OS_DELINQUENT',\n",
    "       'ACCT_COUNT_ALL', 'OS_ALL', 'MICRO_SEGMENT']]"
   ]
  },
  {
   "cell_type": "code",
   "execution_count": 208,
   "metadata": {},
   "outputs": [
    {
     "data": {
      "text/html": [
       "<div>\n",
       "<style scoped>\n",
       "    .dataframe tbody tr th:only-of-type {\n",
       "        vertical-align: middle;\n",
       "    }\n",
       "\n",
       "    .dataframe tbody tr th {\n",
       "        vertical-align: top;\n",
       "    }\n",
       "\n",
       "    .dataframe thead th {\n",
       "        text-align: right;\n",
       "    }\n",
       "</style>\n",
       "<table border=\"1\" class=\"dataframe\">\n",
       "  <thead>\n",
       "    <tr style=\"text-align: right;\">\n",
       "      <th></th>\n",
       "      <th>BASE_DT</th>\n",
       "      <th>ACCT_COUNT_DELINQUENT</th>\n",
       "      <th>OS_DELINQUENT</th>\n",
       "      <th>ACCT_COUNT_ALL</th>\n",
       "      <th>OS_ALL</th>\n",
       "      <th>MICRO_SEGMENT</th>\n",
       "    </tr>\n",
       "  </thead>\n",
       "  <tbody>\n",
       "    <tr>\n",
       "      <th>0</th>\n",
       "      <td>2311</td>\n",
       "      <td>615</td>\n",
       "      <td>1.733557e+10</td>\n",
       "      <td>78358</td>\n",
       "      <td>6.778613e+11</td>\n",
       "      <td>SAGA</td>\n",
       "    </tr>\n",
       "    <tr>\n",
       "      <th>1</th>\n",
       "      <td>2312</td>\n",
       "      <td>607</td>\n",
       "      <td>1.853377e+10</td>\n",
       "      <td>83071</td>\n",
       "      <td>7.335104e+11</td>\n",
       "      <td>SAGA</td>\n",
       "    </tr>\n",
       "    <tr>\n",
       "      <th>2</th>\n",
       "      <td>2401</td>\n",
       "      <td>580</td>\n",
       "      <td>1.870545e+10</td>\n",
       "      <td>81163</td>\n",
       "      <td>7.453515e+11</td>\n",
       "      <td>SAGA</td>\n",
       "    </tr>\n",
       "    <tr>\n",
       "      <th>3</th>\n",
       "      <td>2402</td>\n",
       "      <td>575</td>\n",
       "      <td>1.905721e+10</td>\n",
       "      <td>80489</td>\n",
       "      <td>7.567105e+11</td>\n",
       "      <td>SAGA</td>\n",
       "    </tr>\n",
       "    <tr>\n",
       "      <th>4</th>\n",
       "      <td>2403</td>\n",
       "      <td>588</td>\n",
       "      <td>1.933312e+10</td>\n",
       "      <td>79843</td>\n",
       "      <td>7.542105e+11</td>\n",
       "      <td>SAGA</td>\n",
       "    </tr>\n",
       "    <tr>\n",
       "      <th>5</th>\n",
       "      <td>2404</td>\n",
       "      <td>620</td>\n",
       "      <td>2.132075e+10</td>\n",
       "      <td>78715</td>\n",
       "      <td>7.697663e+11</td>\n",
       "      <td>SAGA</td>\n",
       "    </tr>\n",
       "    <tr>\n",
       "      <th>6</th>\n",
       "      <td>2405</td>\n",
       "      <td>613</td>\n",
       "      <td>2.395302e+10</td>\n",
       "      <td>78079</td>\n",
       "      <td>7.625431e+11</td>\n",
       "      <td>SAGA</td>\n",
       "    </tr>\n",
       "    <tr>\n",
       "      <th>7</th>\n",
       "      <td>2406</td>\n",
       "      <td>606</td>\n",
       "      <td>2.294629e+10</td>\n",
       "      <td>77752</td>\n",
       "      <td>7.833538e+11</td>\n",
       "      <td>SAGA</td>\n",
       "    </tr>\n",
       "    <tr>\n",
       "      <th>8</th>\n",
       "      <td>2407</td>\n",
       "      <td>618</td>\n",
       "      <td>2.346099e+10</td>\n",
       "      <td>76418</td>\n",
       "      <td>7.852823e+11</td>\n",
       "      <td>SAGA</td>\n",
       "    </tr>\n",
       "    <tr>\n",
       "      <th>9</th>\n",
       "      <td>2408</td>\n",
       "      <td>559</td>\n",
       "      <td>2.170487e+10</td>\n",
       "      <td>76462</td>\n",
       "      <td>7.986619e+11</td>\n",
       "      <td>SAGA</td>\n",
       "    </tr>\n",
       "    <tr>\n",
       "      <th>10</th>\n",
       "      <td>2409</td>\n",
       "      <td>516</td>\n",
       "      <td>1.833359e+10</td>\n",
       "      <td>75633</td>\n",
       "      <td>8.129398e+11</td>\n",
       "      <td>SAGA</td>\n",
       "    </tr>\n",
       "    <tr>\n",
       "      <th>11</th>\n",
       "      <td>2410</td>\n",
       "      <td>484</td>\n",
       "      <td>1.952702e+10</td>\n",
       "      <td>75626</td>\n",
       "      <td>7.933710e+11</td>\n",
       "      <td>SAGA</td>\n",
       "    </tr>\n",
       "  </tbody>\n",
       "</table>\n",
       "</div>"
      ],
      "text/plain": [
       "   BASE_DT  ACCT_COUNT_DELINQUENT  OS_DELINQUENT  ACCT_COUNT_ALL  \\\n",
       "0     2311                    615   1.733557e+10           78358   \n",
       "1     2312                    607   1.853377e+10           83071   \n",
       "2     2401                    580   1.870545e+10           81163   \n",
       "3     2402                    575   1.905721e+10           80489   \n",
       "4     2403                    588   1.933312e+10           79843   \n",
       "5     2404                    620   2.132075e+10           78715   \n",
       "6     2405                    613   2.395302e+10           78079   \n",
       "7     2406                    606   2.294629e+10           77752   \n",
       "8     2407                    618   2.346099e+10           76418   \n",
       "9     2408                    559   2.170487e+10           76462   \n",
       "10    2409                    516   1.833359e+10           75633   \n",
       "11    2410                    484   1.952702e+10           75626   \n",
       "\n",
       "          OS_ALL MICRO_SEGMENT  \n",
       "0   6.778613e+11          SAGA  \n",
       "1   7.335104e+11          SAGA  \n",
       "2   7.453515e+11          SAGA  \n",
       "3   7.567105e+11          SAGA  \n",
       "4   7.542105e+11          SAGA  \n",
       "5   7.697663e+11          SAGA  \n",
       "6   7.625431e+11          SAGA  \n",
       "7   7.833538e+11          SAGA  \n",
       "8   7.852823e+11          SAGA  \n",
       "9   7.986619e+11          SAGA  \n",
       "10  8.129398e+11          SAGA  \n",
       "11  7.933710e+11          SAGA  "
      ]
     },
     "execution_count": 208,
     "metadata": {},
     "output_type": "execute_result"
    }
   ],
   "source": [
    "AllSagaCountWide"
   ]
  },
  {
   "cell_type": "code",
   "execution_count": 209,
   "metadata": {},
   "outputs": [],
   "source": [
    "# calculate count share\n",
    "AllSagaCountWide['ACCT_COUNT_SHARE'] = AllSagaCountWide['ACCT_COUNT_DELINQUENT']/AllSagaCountWide['ACCT_COUNT_ALL']\n",
    "\n",
    "# calculate os share\n",
    "AllSagaCountWide['OS_SHARE'] = AllSagaCountWide['OS_DELINQUENT']/AllSagaCountWide['OS_ALL']"
   ]
  },
  {
   "cell_type": "code",
   "execution_count": 210,
   "metadata": {},
   "outputs": [
    {
     "name": "stderr",
     "output_type": "stream",
     "text": [
      "C:\\Users\\MR38804\\AppData\\Local\\Temp\\ipykernel_764\\2811820419.py:4: SettingWithCopyWarning: \n",
      "A value is trying to be set on a copy of a slice from a DataFrame.\n",
      "Try using .loc[row_indexer,col_indexer] = value instead\n",
      "\n",
      "See the caveats in the documentation: https://pandas.pydata.org/pandas-docs/stable/user_guide/indexing.html#returning-a-view-versus-a-copy\n",
      "  CountShare['VAR'] = 'COUNT'\n",
      "C:\\Users\\MR38804\\AppData\\Local\\Temp\\ipykernel_764\\2811820419.py:8: SettingWithCopyWarning: \n",
      "A value is trying to be set on a copy of a slice from a DataFrame.\n",
      "Try using .loc[row_indexer,col_indexer] = value instead\n",
      "\n",
      "See the caveats in the documentation: https://pandas.pydata.org/pandas-docs/stable/user_guide/indexing.html#returning-a-view-versus-a-copy\n",
      "  OSShare['VAR'] = 'OS'\n"
     ]
    }
   ],
   "source": [
    "# longify for visualization\n",
    "CountShare = AllSagaCountWide[['BASE_DT','ACCT_COUNT_SHARE']]\n",
    "CountShare.columns = ['BASE_DT','SHARE']\n",
    "CountShare['VAR'] = 'COUNT'\n",
    "\n",
    "OSShare = AllSagaCountWide[['BASE_DT','OS_SHARE']]\n",
    "OSShare.columns = ['BASE_DT','SHARE']\n",
    "OSShare['VAR'] = 'OS'\n",
    "\n",
    "# concat the 2 tables\n",
    "AllShare = pd.concat([CountShare,OSShare], ignore_index=True)\n",
    "AllShare['BASE_DT'] = AllShare['BASE_DT'].str[2:6]"
   ]
  },
  {
   "cell_type": "code",
   "execution_count": 211,
   "metadata": {},
   "outputs": [
    {
     "data": {
      "text/plain": [
       "<Axes: title={'center': 'SAGA_DELINQUENCY_SHARE'}, xlabel='BASE_DT', ylabel='SHARE'>"
      ]
     },
     "execution_count": 211,
     "metadata": {},
     "output_type": "execute_result"
    },
    {
     "data": {
      "image/png": "[encoded data removed]",
      "text/plain": [
       "<Figure size 1000x600 with 1 Axes>"
      ]
     },
     "metadata": {},
     "output_type": "display_data"
    }
   ],
   "source": [
    "# Plotting\n",
    "plt.figure(figsize=(10,6))\n",
    "plt.title(\"SAGA_DELINQUENCY_SHARE\")\n",
    "plt.xlabel(\"BASE_DT\")\n",
    "plt.ylabel(\"SHARE\")\n",
    "sns.lineplot(data=AllShare, x=\"BASE_DT\", y='SHARE', hue='VAR', marker=\"o\")"
   ]
  },
  {
   "cell_type": "markdown",
   "metadata": {},
   "source": [
    "### c. All Total vs Bad"
   ]
  },
  {
   "cell_type": "code",
   "execution_count": 183,
   "metadata": {},
   "outputs": [
    {
     "data": {
      "text/html": [
       "<div>\n",
       "<style scoped>\n",
       "    .dataframe tbody tr th:only-of-type {\n",
       "        vertical-align: middle;\n",
       "    }\n",
       "\n",
       "    .dataframe tbody tr th {\n",
       "        vertical-align: top;\n",
       "    }\n",
       "\n",
       "    .dataframe thead th {\n",
       "        text-align: right;\n",
       "    }\n",
       "</style>\n",
       "<table border=\"1\" class=\"dataframe\">\n",
       "  <thead>\n",
       "    <tr style=\"text-align: right;\">\n",
       "      <th></th>\n",
       "      <th>BASE_DT</th>\n",
       "      <th>ACCT_COUNT</th>\n",
       "      <th>OS</th>\n",
       "      <th>MICRO_SEGMENT</th>\n",
       "      <th>CATEGORY</th>\n",
       "    </tr>\n",
       "  </thead>\n",
       "  <tbody>\n",
       "    <tr>\n",
       "      <th>0</th>\n",
       "      <td>20231130</td>\n",
       "      <td>1549</td>\n",
       "      <td>3.516816e+10</td>\n",
       "      <td>ALL</td>\n",
       "      <td>DELINQUENT</td>\n",
       "    </tr>\n",
       "    <tr>\n",
       "      <th>1</th>\n",
       "      <td>20231229</td>\n",
       "      <td>1468</td>\n",
       "      <td>3.552449e+10</td>\n",
       "      <td>ALL</td>\n",
       "      <td>DELINQUENT</td>\n",
       "    </tr>\n",
       "    <tr>\n",
       "      <th>2</th>\n",
       "      <td>20240131</td>\n",
       "      <td>1408</td>\n",
       "      <td>3.592046e+10</td>\n",
       "      <td>ALL</td>\n",
       "      <td>DELINQUENT</td>\n",
       "    </tr>\n",
       "    <tr>\n",
       "      <th>3</th>\n",
       "      <td>20240229</td>\n",
       "      <td>1385</td>\n",
       "      <td>3.714974e+10</td>\n",
       "      <td>ALL</td>\n",
       "      <td>DELINQUENT</td>\n",
       "    </tr>\n",
       "    <tr>\n",
       "      <th>4</th>\n",
       "      <td>20240328</td>\n",
       "      <td>1432</td>\n",
       "      <td>3.863219e+10</td>\n",
       "      <td>ALL</td>\n",
       "      <td>DELINQUENT</td>\n",
       "    </tr>\n",
       "    <tr>\n",
       "      <th>5</th>\n",
       "      <td>20240430</td>\n",
       "      <td>1478</td>\n",
       "      <td>4.255456e+10</td>\n",
       "      <td>ALL</td>\n",
       "      <td>DELINQUENT</td>\n",
       "    </tr>\n",
       "    <tr>\n",
       "      <th>6</th>\n",
       "      <td>20240531</td>\n",
       "      <td>1418</td>\n",
       "      <td>4.550060e+10</td>\n",
       "      <td>ALL</td>\n",
       "      <td>DELINQUENT</td>\n",
       "    </tr>\n",
       "    <tr>\n",
       "      <th>7</th>\n",
       "      <td>20240628</td>\n",
       "      <td>1407</td>\n",
       "      <td>4.522179e+10</td>\n",
       "      <td>ALL</td>\n",
       "      <td>DELINQUENT</td>\n",
       "    </tr>\n",
       "    <tr>\n",
       "      <th>8</th>\n",
       "      <td>20240731</td>\n",
       "      <td>1450</td>\n",
       "      <td>4.527750e+10</td>\n",
       "      <td>ALL</td>\n",
       "      <td>DELINQUENT</td>\n",
       "    </tr>\n",
       "    <tr>\n",
       "      <th>9</th>\n",
       "      <td>20240829</td>\n",
       "      <td>1351</td>\n",
       "      <td>4.300646e+10</td>\n",
       "      <td>ALL</td>\n",
       "      <td>DELINQUENT</td>\n",
       "    </tr>\n",
       "    <tr>\n",
       "      <th>10</th>\n",
       "      <td>20240930</td>\n",
       "      <td>1358</td>\n",
       "      <td>3.925577e+10</td>\n",
       "      <td>ALL</td>\n",
       "      <td>DELINQUENT</td>\n",
       "    </tr>\n",
       "    <tr>\n",
       "      <th>11</th>\n",
       "      <td>20241031</td>\n",
       "      <td>1344</td>\n",
       "      <td>4.268944e+10</td>\n",
       "      <td>ALL</td>\n",
       "      <td>DELINQUENT</td>\n",
       "    </tr>\n",
       "  </tbody>\n",
       "</table>\n",
       "</div>"
      ],
      "text/plain": [
       "     BASE_DT  ACCT_COUNT            OS MICRO_SEGMENT    CATEGORY\n",
       "0   20231130        1549  3.516816e+10           ALL  DELINQUENT\n",
       "1   20231229        1468  3.552449e+10           ALL  DELINQUENT\n",
       "2   20240131        1408  3.592046e+10           ALL  DELINQUENT\n",
       "3   20240229        1385  3.714974e+10           ALL  DELINQUENT\n",
       "4   20240328        1432  3.863219e+10           ALL  DELINQUENT\n",
       "5   20240430        1478  4.255456e+10           ALL  DELINQUENT\n",
       "6   20240531        1418  4.550060e+10           ALL  DELINQUENT\n",
       "7   20240628        1407  4.522179e+10           ALL  DELINQUENT\n",
       "8   20240731        1450  4.527750e+10           ALL  DELINQUENT\n",
       "9   20240829        1351  4.300646e+10           ALL  DELINQUENT\n",
       "10  20240930        1358  3.925577e+10           ALL  DELINQUENT\n",
       "11  20241031        1344  4.268944e+10           ALL  DELINQUENT"
      ]
     },
     "execution_count": 183,
     "metadata": {},
     "output_type": "execute_result"
    }
   ],
   "source": [
    "# total deli count (review)\n",
    "TotalDeliCount"
   ]
  },
  {
   "cell_type": "code",
   "execution_count": 194,
   "metadata": {},
   "outputs": [],
   "source": [
    "# Total aggregate\n",
    "TotalCount = MLs[[\n",
    "    'BASE_DT', 'AGREE_ID', 'BAL'\n",
    "]].groupby('BASE_DT').agg(ACCT_COUNT=('AGREE_ID','count'),\n",
    "                          OS=('BAL','sum')).reset_index()\n",
    "TotalCount['MICRO_SEGMENT'] = 'ALL'\n",
    "TotalCount['CATEGORY'] = 'ALL'"
   ]
  },
  {
   "cell_type": "code",
   "execution_count": 198,
   "metadata": {},
   "outputs": [],
   "source": [
    "# concat tables\n",
    "AllAll = pd.concat([TotalDeliCount,TotalCount], ignore_index=True)\n",
    "\n",
    "# format base_dt\n",
    "AllAll['BASE_DT'] = AllAll['BASE_DT'].str[2:6]"
   ]
  },
  {
   "cell_type": "code",
   "execution_count": 199,
   "metadata": {},
   "outputs": [
    {
     "data": {
      "text/html": [
       "<div>\n",
       "<style scoped>\n",
       "    .dataframe tbody tr th:only-of-type {\n",
       "        vertical-align: middle;\n",
       "    }\n",
       "\n",
       "    .dataframe tbody tr th {\n",
       "        vertical-align: top;\n",
       "    }\n",
       "\n",
       "    .dataframe thead th {\n",
       "        text-align: right;\n",
       "    }\n",
       "</style>\n",
       "<table border=\"1\" class=\"dataframe\">\n",
       "  <thead>\n",
       "    <tr style=\"text-align: right;\">\n",
       "      <th></th>\n",
       "      <th>BASE_DT</th>\n",
       "      <th>ACCT_COUNT</th>\n",
       "      <th>OS</th>\n",
       "      <th>MICRO_SEGMENT</th>\n",
       "      <th>CATEGORY</th>\n",
       "    </tr>\n",
       "  </thead>\n",
       "  <tbody>\n",
       "    <tr>\n",
       "      <th>0</th>\n",
       "      <td>2311</td>\n",
       "      <td>1549</td>\n",
       "      <td>3.516816e+10</td>\n",
       "      <td>ALL</td>\n",
       "      <td>DELINQUENT</td>\n",
       "    </tr>\n",
       "    <tr>\n",
       "      <th>1</th>\n",
       "      <td>2312</td>\n",
       "      <td>1468</td>\n",
       "      <td>3.552449e+10</td>\n",
       "      <td>ALL</td>\n",
       "      <td>DELINQUENT</td>\n",
       "    </tr>\n",
       "    <tr>\n",
       "      <th>2</th>\n",
       "      <td>2401</td>\n",
       "      <td>1408</td>\n",
       "      <td>3.592046e+10</td>\n",
       "      <td>ALL</td>\n",
       "      <td>DELINQUENT</td>\n",
       "    </tr>\n",
       "    <tr>\n",
       "      <th>3</th>\n",
       "      <td>2402</td>\n",
       "      <td>1385</td>\n",
       "      <td>3.714974e+10</td>\n",
       "      <td>ALL</td>\n",
       "      <td>DELINQUENT</td>\n",
       "    </tr>\n",
       "    <tr>\n",
       "      <th>4</th>\n",
       "      <td>2403</td>\n",
       "      <td>1432</td>\n",
       "      <td>3.863219e+10</td>\n",
       "      <td>ALL</td>\n",
       "      <td>DELINQUENT</td>\n",
       "    </tr>\n",
       "    <tr>\n",
       "      <th>5</th>\n",
       "      <td>2404</td>\n",
       "      <td>1478</td>\n",
       "      <td>4.255456e+10</td>\n",
       "      <td>ALL</td>\n",
       "      <td>DELINQUENT</td>\n",
       "    </tr>\n",
       "    <tr>\n",
       "      <th>6</th>\n",
       "      <td>2405</td>\n",
       "      <td>1418</td>\n",
       "      <td>4.550060e+10</td>\n",
       "      <td>ALL</td>\n",
       "      <td>DELINQUENT</td>\n",
       "    </tr>\n",
       "    <tr>\n",
       "      <th>7</th>\n",
       "      <td>2406</td>\n",
       "      <td>1407</td>\n",
       "      <td>4.522179e+10</td>\n",
       "      <td>ALL</td>\n",
       "      <td>DELINQUENT</td>\n",
       "    </tr>\n",
       "    <tr>\n",
       "      <th>8</th>\n",
       "      <td>2407</td>\n",
       "      <td>1450</td>\n",
       "      <td>4.527750e+10</td>\n",
       "      <td>ALL</td>\n",
       "      <td>DELINQUENT</td>\n",
       "    </tr>\n",
       "    <tr>\n",
       "      <th>9</th>\n",
       "      <td>2408</td>\n",
       "      <td>1351</td>\n",
       "      <td>4.300646e+10</td>\n",
       "      <td>ALL</td>\n",
       "      <td>DELINQUENT</td>\n",
       "    </tr>\n",
       "    <tr>\n",
       "      <th>10</th>\n",
       "      <td>2409</td>\n",
       "      <td>1358</td>\n",
       "      <td>3.925577e+10</td>\n",
       "      <td>ALL</td>\n",
       "      <td>DELINQUENT</td>\n",
       "    </tr>\n",
       "    <tr>\n",
       "      <th>11</th>\n",
       "      <td>2410</td>\n",
       "      <td>1344</td>\n",
       "      <td>4.268944e+10</td>\n",
       "      <td>ALL</td>\n",
       "      <td>DELINQUENT</td>\n",
       "    </tr>\n",
       "    <tr>\n",
       "      <th>12</th>\n",
       "      <td>2311</td>\n",
       "      <td>187885</td>\n",
       "      <td>1.561560e+12</td>\n",
       "      <td>ALL</td>\n",
       "      <td>ALL</td>\n",
       "    </tr>\n",
       "    <tr>\n",
       "      <th>13</th>\n",
       "      <td>2312</td>\n",
       "      <td>186569</td>\n",
       "      <td>1.562580e+12</td>\n",
       "      <td>ALL</td>\n",
       "      <td>ALL</td>\n",
       "    </tr>\n",
       "    <tr>\n",
       "      <th>14</th>\n",
       "      <td>2401</td>\n",
       "      <td>183281</td>\n",
       "      <td>1.603963e+12</td>\n",
       "      <td>ALL</td>\n",
       "      <td>ALL</td>\n",
       "    </tr>\n",
       "    <tr>\n",
       "      <th>15</th>\n",
       "      <td>2402</td>\n",
       "      <td>182894</td>\n",
       "      <td>1.629879e+12</td>\n",
       "      <td>ALL</td>\n",
       "      <td>ALL</td>\n",
       "    </tr>\n",
       "    <tr>\n",
       "      <th>16</th>\n",
       "      <td>2403</td>\n",
       "      <td>182350</td>\n",
       "      <td>1.642677e+12</td>\n",
       "      <td>ALL</td>\n",
       "      <td>ALL</td>\n",
       "    </tr>\n",
       "    <tr>\n",
       "      <th>17</th>\n",
       "      <td>2404</td>\n",
       "      <td>180496</td>\n",
       "      <td>1.694901e+12</td>\n",
       "      <td>ALL</td>\n",
       "      <td>ALL</td>\n",
       "    </tr>\n",
       "    <tr>\n",
       "      <th>18</th>\n",
       "      <td>2405</td>\n",
       "      <td>180056</td>\n",
       "      <td>1.699164e+12</td>\n",
       "      <td>ALL</td>\n",
       "      <td>ALL</td>\n",
       "    </tr>\n",
       "    <tr>\n",
       "      <th>19</th>\n",
       "      <td>2406</td>\n",
       "      <td>179964</td>\n",
       "      <td>1.758796e+12</td>\n",
       "      <td>ALL</td>\n",
       "      <td>ALL</td>\n",
       "    </tr>\n",
       "    <tr>\n",
       "      <th>20</th>\n",
       "      <td>2407</td>\n",
       "      <td>177991</td>\n",
       "      <td>1.771556e+12</td>\n",
       "      <td>ALL</td>\n",
       "      <td>ALL</td>\n",
       "    </tr>\n",
       "    <tr>\n",
       "      <th>21</th>\n",
       "      <td>2408</td>\n",
       "      <td>178580</td>\n",
       "      <td>1.802961e+12</td>\n",
       "      <td>ALL</td>\n",
       "      <td>ALL</td>\n",
       "    </tr>\n",
       "    <tr>\n",
       "      <th>22</th>\n",
       "      <td>2409</td>\n",
       "      <td>177997</td>\n",
       "      <td>1.852019e+12</td>\n",
       "      <td>ALL</td>\n",
       "      <td>ALL</td>\n",
       "    </tr>\n",
       "    <tr>\n",
       "      <th>23</th>\n",
       "      <td>2410</td>\n",
       "      <td>179387</td>\n",
       "      <td>1.862254e+12</td>\n",
       "      <td>ALL</td>\n",
       "      <td>ALL</td>\n",
       "    </tr>\n",
       "  </tbody>\n",
       "</table>\n",
       "</div>"
      ],
      "text/plain": [
       "   BASE_DT  ACCT_COUNT            OS MICRO_SEGMENT    CATEGORY\n",
       "0     2311        1549  3.516816e+10           ALL  DELINQUENT\n",
       "1     2312        1468  3.552449e+10           ALL  DELINQUENT\n",
       "2     2401        1408  3.592046e+10           ALL  DELINQUENT\n",
       "3     2402        1385  3.714974e+10           ALL  DELINQUENT\n",
       "4     2403        1432  3.863219e+10           ALL  DELINQUENT\n",
       "5     2404        1478  4.255456e+10           ALL  DELINQUENT\n",
       "6     2405        1418  4.550060e+10           ALL  DELINQUENT\n",
       "7     2406        1407  4.522179e+10           ALL  DELINQUENT\n",
       "8     2407        1450  4.527750e+10           ALL  DELINQUENT\n",
       "9     2408        1351  4.300646e+10           ALL  DELINQUENT\n",
       "10    2409        1358  3.925577e+10           ALL  DELINQUENT\n",
       "11    2410        1344  4.268944e+10           ALL  DELINQUENT\n",
       "12    2311      187885  1.561560e+12           ALL         ALL\n",
       "13    2312      186569  1.562580e+12           ALL         ALL\n",
       "14    2401      183281  1.603963e+12           ALL         ALL\n",
       "15    2402      182894  1.629879e+12           ALL         ALL\n",
       "16    2403      182350  1.642677e+12           ALL         ALL\n",
       "17    2404      180496  1.694901e+12           ALL         ALL\n",
       "18    2405      180056  1.699164e+12           ALL         ALL\n",
       "19    2406      179964  1.758796e+12           ALL         ALL\n",
       "20    2407      177991  1.771556e+12           ALL         ALL\n",
       "21    2408      178580  1.802961e+12           ALL         ALL\n",
       "22    2409      177997  1.852019e+12           ALL         ALL\n",
       "23    2410      179387  1.862254e+12           ALL         ALL"
      ]
     },
     "execution_count": 199,
     "metadata": {},
     "output_type": "execute_result"
    }
   ],
   "source": [
    "AllAll"
   ]
  },
  {
   "cell_type": "code",
   "execution_count": 200,
   "metadata": {},
   "outputs": [
    {
     "data": {
      "text/plain": [
       "<Axes: title={'center': 'ALL_COUNT'}, xlabel='BASE_DT', ylabel='COUNT'>"
      ]
     },
     "execution_count": 200,
     "metadata": {},
     "output_type": "execute_result"
    },
    {
     "data": {
      "image/png": "[encoded data removed]",
      "text/plain": [
       "<Figure size 1000x600 with 1 Axes>"
      ]
     },
     "metadata": {},
     "output_type": "display_data"
    }
   ],
   "source": [
    "# Plot All count per month\n",
    "plt.figure(figsize=(10,6))\n",
    "plt.title(\"ALL_COUNT\")\n",
    "plt.xlabel(\"BASE_DT\")\n",
    "plt.ylabel(\"COUNT\")\n",
    "# plt.ylim((0,2000))\n",
    "sns.lineplot(data=AllAll, x=\"BASE_DT\", y='ACCT_COUNT', hue='CATEGORY', marker=\"o\")"
   ]
  },
  {
   "cell_type": "code",
   "execution_count": 214,
   "metadata": {},
   "outputs": [
    {
     "data": {
      "text/plain": [
       "<Axes: title={'center': 'ALL_OS'}, xlabel='BASE_DT', ylabel='OS'>"
      ]
     },
     "execution_count": 214,
     "metadata": {},
     "output_type": "execute_result"
    },
    {
     "data": {
      "image/png": "[encoded data removed]",
      "text/plain": [
       "<Figure size 1000x600 with 1 Axes>"
      ]
     },
     "metadata": {},
     "output_type": "display_data"
    }
   ],
   "source": [
    "# Plot All count per month\n",
    "plt.figure(figsize=(10,6))\n",
    "plt.title(\"ALL_OS\")\n",
    "plt.xlabel(\"BASE_DT\")\n",
    "plt.ylabel(\"OS\")\n",
    "# plt.ylim((0,2000))\n",
    "sns.lineplot(data=AllAll, x=\"BASE_DT\", y='OS', hue='CATEGORY', marker=\"o\")"
   ]
  },
  {
   "cell_type": "code",
   "execution_count": 215,
   "metadata": {},
   "outputs": [],
   "source": [
    "# create wide df to calaculate percentage\n",
    "AllCountWide = AllAll[AllAll['CATEGORY']=='DELINQUENT'].merge(\n",
    "    AllAll[AllAll['CATEGORY']=='ALL'], on='BASE_DT', how='left')"
   ]
  },
  {
   "cell_type": "code",
   "execution_count": 217,
   "metadata": {},
   "outputs": [],
   "source": [
    "# fix field names and shi\n",
    "AllCountWide.columns = ['BASE_DT', 'ACCT_COUNT_DELINQUENT', 'OS_DELINQUENT','MICRO_SEGMENT_x', 'CATEGORY_x',\n",
    "       'ACCT_COUNT_ALL', 'OS_ALL', 'MICRO_SEGMENT', 'CATEGORY_y']\n",
    "AllCountWide = AllCountWide[['BASE_DT', 'ACCT_COUNT_DELINQUENT', 'OS_DELINQUENT',\n",
    "       'ACCT_COUNT_ALL', 'OS_ALL', 'MICRO_SEGMENT']]"
   ]
  },
  {
   "cell_type": "code",
   "execution_count": 218,
   "metadata": {},
   "outputs": [],
   "source": [
    "# calculate count share\n",
    "AllCountWide['ACCT_COUNT_SHARE'] = AllCountWide['ACCT_COUNT_DELINQUENT']/AllCountWide['ACCT_COUNT_ALL']\n",
    "\n",
    "# calculate os share\n",
    "AllCountWide['OS_SHARE'] = AllCountWide['OS_DELINQUENT']/AllCountWide['OS_ALL']"
   ]
  },
  {
   "cell_type": "code",
   "execution_count": 219,
   "metadata": {},
   "outputs": [
    {
     "name": "stderr",
     "output_type": "stream",
     "text": [
      "C:\\Users\\MR38804\\AppData\\Local\\Temp\\ipykernel_764\\808844126.py:4: SettingWithCopyWarning: \n",
      "A value is trying to be set on a copy of a slice from a DataFrame.\n",
      "Try using .loc[row_indexer,col_indexer] = value instead\n",
      "\n",
      "See the caveats in the documentation: https://pandas.pydata.org/pandas-docs/stable/user_guide/indexing.html#returning-a-view-versus-a-copy\n",
      "  AllCountShare['VAR'] = 'COUNT'\n",
      "C:\\Users\\MR38804\\AppData\\Local\\Temp\\ipykernel_764\\808844126.py:8: SettingWithCopyWarning: \n",
      "A value is trying to be set on a copy of a slice from a DataFrame.\n",
      "Try using .loc[row_indexer,col_indexer] = value instead\n",
      "\n",
      "See the caveats in the documentation: https://pandas.pydata.org/pandas-docs/stable/user_guide/indexing.html#returning-a-view-versus-a-copy\n",
      "  AllOSShare['VAR'] = 'OS'\n"
     ]
    }
   ],
   "source": [
    "# longify for visualization\n",
    "AllCountShare = AllCountWide[['BASE_DT','ACCT_COUNT_SHARE']]\n",
    "AllCountShare.columns = ['BASE_DT','SHARE']\n",
    "AllCountShare['VAR'] = 'COUNT'\n",
    "\n",
    "AllOSShare = AllCountWide[['BASE_DT','OS_SHARE']]\n",
    "AllOSShare.columns = ['BASE_DT','SHARE']\n",
    "AllOSShare['VAR'] = 'OS'\n",
    "\n",
    "# concat the 2 tables\n",
    "AllAllShare = pd.concat([AllCountShare,AllOSShare], ignore_index=True)\n",
    "AllAllShare['BASE_DT'] = AllAllShare['BASE_DT'].str[2:6]"
   ]
  },
  {
   "cell_type": "code",
   "execution_count": 224,
   "metadata": {},
   "outputs": [
    {
     "data": {
      "text/plain": [
       "<Axes: title={'center': 'TOTAL_DELINQUENCY_SHARE'}, xlabel='BASE_DT', ylabel='SHARE'>"
      ]
     },
     "execution_count": 224,
     "metadata": {},
     "output_type": "execute_result"
    },
    {
     "data": {
      "image/png": "[encoded data removed]",
      "text/plain": [
       "<Figure size 1000x600 with 1 Axes>"
      ]
     },
     "metadata": {},
     "output_type": "display_data"
    }
   ],
   "source": [
    "# Plotting\n",
    "plt.figure(figsize=(10,6))\n",
    "plt.title(\"TOTAL_DELINQUENCY_SHARE\")\n",
    "plt.xlabel(\"BASE_DT\")\n",
    "plt.ylabel(\"SHARE\")\n",
    "sns.lineplot(data=AllAllShare, x=\"BASE_DT\", y='SHARE', hue='VAR', marker=\"o\")"
   ]
  },
  {
   "cell_type": "markdown",
   "metadata": {},
   "source": [
    "### d. SAGA Monthly New Bad Debt"
   ]
  },
  {
   "cell_type": "code",
   "execution_count": 158,
   "metadata": {},
   "outputs": [],
   "source": [
    "# set dataframe for dpd change calculation\n",
    "DPDMonthly = MLs[['BASE_DT', 'AGREE_ID', 'PASTDUE_DAYS']].reset_index()"
   ]
  },
  {
   "cell_type": "code",
   "execution_count": 159,
   "metadata": {},
   "outputs": [
    {
     "data": {
      "text/plain": [
       "PASTDUE_DAYS\n",
       "0      2108866\n",
       "1        40809\n",
       "30       10727\n",
       "60        6189\n",
       "90        4365\n",
       "120       3585\n",
       "150       2842\n",
       "210         62\n",
       "180          5\n",
       "Name: count, dtype: int64"
      ]
     },
     "execution_count": 159,
     "metadata": {},
     "output_type": "execute_result"
    }
   ],
   "source": [
    "# checking pastdue values\n",
    "DPDMonthly['PASTDUE_DAYS'].value_counts()"
   ]
  },
  {
   "cell_type": "code",
   "execution_count": 160,
   "metadata": {},
   "outputs": [],
   "source": [
    "# create pivot table\n",
    "DPDMonthlyPivot = DPDMonthly.pivot(index='AGREE_ID',\n",
    "                                   columns='BASE_DT',\n",
    "                                   values='PASTDUE_DAYS')"
   ]
  },
  {
   "cell_type": "code",
   "execution_count": 161,
   "metadata": {},
   "outputs": [],
   "source": [
    "# flaten columns\n",
    "DPDMonthlyPivot = DPDMonthlyPivot.rename_axis(index=None, columns=None).reset_index()"
   ]
  },
  {
   "cell_type": "code",
   "execution_count": 162,
   "metadata": {},
   "outputs": [
    {
     "data": {
      "text/plain": [
       "Index(['index', '20231130', '20231229', '20240131', '20240229', '20240328',\n",
       "       '20240430', '20240531', '20240628', '20240731', '20240829', '20240930',\n",
       "       '20241031'],\n",
       "      dtype='object')"
      ]
     },
     "execution_count": 162,
     "metadata": {},
     "output_type": "execute_result"
    }
   ],
   "source": [
    "DPDMonthlyPivot.columns"
   ]
  },
  {
   "cell_type": "code",
   "execution_count": 163,
   "metadata": {},
   "outputs": [],
   "source": [
    "# rename columns\n",
    "DPDMonthlyPivot.columns = [\n",
    "    'AGREE_ID', '20231130', '20231229', '20240131', '20240229', '20240328',\n",
    "    '20240430', '20240531', '20240628', '20240731', '20240829', '20240930',\n",
    "    '20241031']"
   ]
  },
  {
   "cell_type": "code",
   "execution_count": 164,
   "metadata": {},
   "outputs": [],
   "source": [
    "# fillna with 0\n",
    "DPDMonthlyPivot.fillna(0, inplace=True)\n",
    "\n",
    "# date for loop\n",
    "dateCol = ['20231130', '20231229', '20240131', '20240229', '20240328',\n",
    "    '20240430', '20240531', '20240628', '20240731', '20240829', '20240930',\n",
    "    '20241031']\n",
    "\n",
    "# calculate dpd change for all dates\n",
    "for i in range(1,len(dateCol)):\n",
    "    prevDate = dateCol[i-1]\n",
    "    date = dateCol[i]\n",
    "    DPDMonthlyPivot[f'DELINQUENT_{date}'] = DPDMonthlyPivot.apply(\n",
    "        lambda x: 1 if x[prevDate]<30 and x[date]>=30 else 0,\n",
    "        axis=1)"
   ]
  },
  {
   "cell_type": "code",
   "execution_count": 165,
   "metadata": {},
   "outputs": [
    {
     "data": {
      "text/plain": [
       "DELINQUENT_20240430\n",
       "0                      255118\n",
       "1                         579\n",
       "Name: count, dtype: int64"
      ]
     },
     "execution_count": 165,
     "metadata": {},
     "output_type": "execute_result"
    }
   ],
   "source": [
    "# check value\n",
    "DPDMonthlyPivot[['DELINQUENT_20240430']].value_counts()"
   ]
  },
  {
   "cell_type": "code",
   "execution_count": 166,
   "metadata": {},
   "outputs": [],
   "source": [
    "# take only used cols\n",
    "usedCols = [list(DPDMonthlyPivot.columns)[0]]+list(DPDMonthlyPivot.columns)[13:]\n",
    "DPDMonthlyPivot = DPDMonthlyPivot[usedCols]"
   ]
  },
  {
   "cell_type": "code",
   "execution_count": 167,
   "metadata": {},
   "outputs": [],
   "source": [
    "# longify\n",
    "DPDMonthlyLong = pd.wide_to_long(DPDMonthlyPivot,\n",
    "                                 stubnames='DELINQUENT',\n",
    "                                 i = 'AGREE_ID',\n",
    "                                 j = 'BASE_DT',\n",
    "                                 sep = '_')"
   ]
  },
  {
   "cell_type": "code",
   "execution_count": 168,
   "metadata": {},
   "outputs": [],
   "source": [
    "# reset index and change base_dt type to string\n",
    "DPDMonthlyLong = DPDMonthlyLong.reset_index()\n",
    "DPDMonthlyLong['BASE_DT'] = DPDMonthlyLong['BASE_DT'].astype(str)"
   ]
  },
  {
   "cell_type": "code",
   "execution_count": 169,
   "metadata": {},
   "outputs": [
    {
     "name": "stdout",
     "output_type": "stream",
     "text": [
      "<class 'pandas.core.frame.DataFrame'>\n",
      "RangeIndex: 2812667 entries, 0 to 2812666\n",
      "Data columns (total 3 columns):\n",
      " #   Column      Dtype \n",
      "---  ------      ----- \n",
      " 0   AGREE_ID    object\n",
      " 1   BASE_DT     object\n",
      " 2   DELINQUENT  int64 \n",
      "dtypes: int64(1), object(2)\n",
      "memory usage: 64.4+ MB\n"
     ]
    }
   ],
   "source": [
    "DPDMonthlyLong.info()"
   ]
  },
  {
   "cell_type": "code",
   "execution_count": 170,
   "metadata": {},
   "outputs": [
    {
     "data": {
      "text/plain": [
       "DELINQUENT\n",
       "0.0    1982292\n",
       "1.0       7273\n",
       "Name: count, dtype: int64"
      ]
     },
     "execution_count": 170,
     "metadata": {},
     "output_type": "execute_result"
    }
   ],
   "source": [
    "MLs['DELINQUENT'].value_counts()"
   ]
  },
  {
   "cell_type": "code",
   "execution_count": null,
   "metadata": {},
   "outputs": [],
   "source": [
    "# merge delinquency flag to original data\n",
    "MLs = MLs.merge(DPDMonthlyLong[['AGREE_ID', 'BASE_DT', 'DELINQUENT']], on=['AGREE_ID', 'BASE_DT'], how='left')"
   ]
  },
  {
   "cell_type": "code",
   "execution_count": 172,
   "metadata": {},
   "outputs": [],
   "source": [
    "# group data for visualization\n",
    "monthlyDeli = MLs[(MLs['SAGA_FLAG']=='SAGA') & (MLs['DELINQUENT']==1)][['BASE_DT', 'DELINQUENT', 'BAL']].groupby('BASE_DT').agg(ACCT_COUNT=('DELINQUENT','sum'), OS=('BAL','sum')).reset_index()\n",
    "monthlyDeliAll = MLs[MLs['DELINQUENT']==1][['BASE_DT', 'DELINQUENT','BAL']].groupby('BASE_DT').agg(ACCT_COUNT=('DELINQUENT','sum'), OS=('BAL','sum')).reset_index()"
   ]
  },
  {
   "cell_type": "code",
   "execution_count": 173,
   "metadata": {},
   "outputs": [],
   "source": [
    "# flag data\n",
    "monthlyDeli['MICRO_SEGMENT'] = 'SAGA'\n",
    "monthlyDeliAll['MICRO_SEGMENT'] = 'ALL'"
   ]
  },
  {
   "cell_type": "code",
   "execution_count": null,
   "metadata": {},
   "outputs": [],
   "source": [
    "# combine the data\n",
    "MonthlyDeliComb = pd.concat([monthlyDeli,monthlyDeliAll], ignore_index=True)\n",
    "\n",
    "# format data\n",
    "MonthlyDeliComb['BASE_DT'] = MonthlyDeliComb['BASE_DT'].str[2:6]\n",
    "\n",
    "# exclude first month because no data of new delinquency\n",
    "MonthlyDeliComb = MonthlyDeliComb[MonthlyDeliComb['BASE_DT']!='2311']"
   ]
  },
  {
   "cell_type": "code",
   "execution_count": 175,
   "metadata": {},
   "outputs": [
    {
     "data": {
      "text/plain": [
       "<Axes: title={'center': 'DELINQUENCY_GROWTH'}, xlabel='BASE_DT', ylabel='COUNT'>"
      ]
     },
     "execution_count": 175,
     "metadata": {},
     "output_type": "execute_result"
    },
    {
     "data": {
      "image/png": "[encoded data removed]",
      "text/plain": [
       "<Figure size 1000x600 with 1 Axes>"
      ]
     },
     "metadata": {},
     "output_type": "display_data"
    }
   ],
   "source": [
    "# Plotting\n",
    "plt.figure(figsize=(10,6))\n",
    "plt.title(\"MONTHLY_DELINQUENCY_COUNT\")\n",
    "plt.xlabel(\"BASE_DT\")\n",
    "plt.ylim((0,1000))\n",
    "plt.ylabel(\"COUNT\")\n",
    "sns.lineplot(data=MonthlyDeliComb, x=\"BASE_DT\", y='ACCT_COUNT', hue='MICRO_SEGMENT', marker=\"o\")"
   ]
  },
  {
   "cell_type": "code",
   "execution_count": 179,
   "metadata": {},
   "outputs": [
    {
     "data": {
      "text/plain": [
       "<Axes: title={'center': 'MONTHLY_DELINQUENCY_os'}, xlabel='BASE_DT', ylabel='os'>"
      ]
     },
     "execution_count": 179,
     "metadata": {},
     "output_type": "execute_result"
    },
    {
     "data": {
      "image/png": "[encoded data removed]",
      "text/plain": [
       "<Figure size 1000x600 with 1 Axes>"
      ]
     },
     "metadata": {},
     "output_type": "display_data"
    }
   ],
   "source": [
    "# Plotting\n",
    "plt.figure(figsize=(10,6))\n",
    "plt.title(\"MONTHLY_DELINQUENCY_os\")\n",
    "plt.xlabel(\"BASE_DT\")\n",
    "plt.ylim((0,15000000000))\n",
    "plt.ylabel(\"os\")\n",
    "sns.lineplot(data=MonthlyDeliComb, x=\"BASE_DT\", y='OS', hue='MICRO_SEGMENT', marker=\"o\")"
   ]
  },
  {
   "cell_type": "markdown",
   "metadata": {},
   "source": [
    "## 2. By GCIF"
   ]
  },
  {
   "cell_type": "code",
   "execution_count": null,
   "metadata": {},
   "outputs": [],
   "source": [
    "MLs.duplicated().sum()"
   ]
  },
  {
   "cell_type": "code",
   "execution_count": 245,
   "metadata": {},
   "outputs": [],
   "source": [
    "# create GCIF grouped data\n",
    "MLsGCIFGPD = MLs[['BASE_DT','GCIF_NO','CURR_LMT_AMT','BAL']].groupby(\n",
    "    ['BASE_DT','GCIF_NO']).agg(\n",
    "        SUM_LMT=('CURR_LMT_AMT','sum'),\n",
    "        SUM_BAL=('BAL','sum'),\n",
    "        NOA=('BASE_DT','count')\n",
    "    ).reset_index()"
   ]
  },
  {
   "cell_type": "code",
   "execution_count": 240,
   "metadata": {},
   "outputs": [],
   "source": [
    "# create GCIF distinct data\n",
    "MLsGCIFProc = MLs[['BASE_DT','GCIF_NO','SAGA_FLAG','PASTDUE_DAYS']]"
   ]
  },
  {
   "cell_type": "code",
   "execution_count": 241,
   "metadata": {},
   "outputs": [
    {
     "name": "stderr",
     "output_type": "stream",
     "text": [
      "C:\\Users\\MR38804\\AppData\\Local\\Temp\\ipykernel_764\\49022384.py:3: SettingWithCopyWarning: \n",
      "A value is trying to be set on a copy of a slice from a DataFrame.\n",
      "Try using .loc[row_indexer,col_indexer] = value instead\n",
      "\n",
      "See the caveats in the documentation: https://pandas.pydata.org/pandas-docs/stable/user_guide/indexing.html#returning-a-view-versus-a-copy\n",
      "  MLsGCIFProc['SAGA_FLAG'] = MLsGCIFProc['SAGA_FLAG'].map(SAGAMap)\n"
     ]
    }
   ],
   "source": [
    "# map to integer SAGA flag\n",
    "SAGAMap = {'SAGA':1,'NON-SAGA':0}\n",
    "MLsGCIFProc['SAGA_FLAG'] = MLsGCIFProc['SAGA_FLAG'].map(SAGAMap)"
   ]
  },
  {
   "cell_type": "code",
   "execution_count": 246,
   "metadata": {},
   "outputs": [],
   "source": [
    "# create categorical GCIF grouped data\n",
    "MLsGCIFGPD2 = MLsGCIFProc.groupby(\n",
    "    ['BASE_DT','GCIF_NO']).agg(\n",
    "        SAGA_FLAG=('SAGA_FLAG','max'),\n",
    "        PASTDUE_DAYS_MAX=('PASTDUE_DAYS','max'),\n",
    ").reset_index()"
   ]
  },
  {
   "cell_type": "code",
   "execution_count": 247,
   "metadata": {},
   "outputs": [],
   "source": [
    "# merge the numeric and categorical data\n",
    "MLsGCIF = MLsGCIFGPD.merge(MLsGCIFGPD2, on=['BASE_DT','GCIF_NO'], how='left')"
   ]
  },
  {
   "cell_type": "code",
   "execution_count": 248,
   "metadata": {},
   "outputs": [
    {
     "data": {
      "text/html": [
       "<div>\n",
       "<style scoped>\n",
       "    .dataframe tbody tr th:only-of-type {\n",
       "        vertical-align: middle;\n",
       "    }\n",
       "\n",
       "    .dataframe tbody tr th {\n",
       "        vertical-align: top;\n",
       "    }\n",
       "\n",
       "    .dataframe thead th {\n",
       "        text-align: right;\n",
       "    }\n",
       "</style>\n",
       "<table border=\"1\" class=\"dataframe\">\n",
       "  <thead>\n",
       "    <tr style=\"text-align: right;\">\n",
       "      <th></th>\n",
       "      <th>BASE_DT</th>\n",
       "      <th>GCIF_NO</th>\n",
       "      <th>SUM_LMT</th>\n",
       "      <th>SUM_BAL</th>\n",
       "      <th>NOA</th>\n",
       "      <th>SAGA_FLAG</th>\n",
       "      <th>PASTDUE_DAYS_MAX</th>\n",
       "    </tr>\n",
       "  </thead>\n",
       "  <tbody>\n",
       "    <tr>\n",
       "      <th>0</th>\n",
       "      <td>20231130</td>\n",
       "      <td>EX0000000009531013</td>\n",
       "      <td>39812500.00</td>\n",
       "      <td>0.0</td>\n",
       "      <td>7</td>\n",
       "      <td>NaN</td>\n",
       "      <td>0</td>\n",
       "    </tr>\n",
       "    <tr>\n",
       "      <th>1</th>\n",
       "      <td>20231130</td>\n",
       "      <td>EX0000000009531021</td>\n",
       "      <td>12000000.00</td>\n",
       "      <td>0.0</td>\n",
       "      <td>2</td>\n",
       "      <td>NaN</td>\n",
       "      <td>0</td>\n",
       "    </tr>\n",
       "    <tr>\n",
       "      <th>2</th>\n",
       "      <td>20231130</td>\n",
       "      <td>EX0000000009531039</td>\n",
       "      <td>2250000.00</td>\n",
       "      <td>0.0</td>\n",
       "      <td>2</td>\n",
       "      <td>NaN</td>\n",
       "      <td>0</td>\n",
       "    </tr>\n",
       "    <tr>\n",
       "      <th>3</th>\n",
       "      <td>20231130</td>\n",
       "      <td>EX0000000009531047</td>\n",
       "      <td>44052764.61</td>\n",
       "      <td>480990.0</td>\n",
       "      <td>11</td>\n",
       "      <td>NaN</td>\n",
       "      <td>0</td>\n",
       "    </tr>\n",
       "    <tr>\n",
       "      <th>4</th>\n",
       "      <td>20231130</td>\n",
       "      <td>EX0000000009531054</td>\n",
       "      <td>11598367.00</td>\n",
       "      <td>196734.0</td>\n",
       "      <td>6</td>\n",
       "      <td>NaN</td>\n",
       "      <td>0</td>\n",
       "    </tr>\n",
       "    <tr>\n",
       "      <th>...</th>\n",
       "      <td>...</td>\n",
       "      <td>...</td>\n",
       "      <td>...</td>\n",
       "      <td>...</td>\n",
       "      <td>...</td>\n",
       "      <td>...</td>\n",
       "      <td>...</td>\n",
       "    </tr>\n",
       "    <tr>\n",
       "      <th>1469019</th>\n",
       "      <td>20241031</td>\n",
       "      <td>G910398577</td>\n",
       "      <td>8000000.00</td>\n",
       "      <td>7610999.0</td>\n",
       "      <td>1</td>\n",
       "      <td>0.0</td>\n",
       "      <td>0</td>\n",
       "    </tr>\n",
       "    <tr>\n",
       "      <th>1469020</th>\n",
       "      <td>20241031</td>\n",
       "      <td>G910398734</td>\n",
       "      <td>35000000.00</td>\n",
       "      <td>1497748.0</td>\n",
       "      <td>1</td>\n",
       "      <td>0.0</td>\n",
       "      <td>0</td>\n",
       "    </tr>\n",
       "    <tr>\n",
       "      <th>1469021</th>\n",
       "      <td>20241031</td>\n",
       "      <td>G910399518</td>\n",
       "      <td>70000000.00</td>\n",
       "      <td>9286706.0</td>\n",
       "      <td>1</td>\n",
       "      <td>0.0</td>\n",
       "      <td>0</td>\n",
       "    </tr>\n",
       "    <tr>\n",
       "      <th>1469022</th>\n",
       "      <td>20241031</td>\n",
       "      <td>G910402478</td>\n",
       "      <td>12000000.00</td>\n",
       "      <td>1287038.0</td>\n",
       "      <td>1</td>\n",
       "      <td>0.0</td>\n",
       "      <td>0</td>\n",
       "    </tr>\n",
       "    <tr>\n",
       "      <th>1469023</th>\n",
       "      <td>20241031</td>\n",
       "      <td>G910407444</td>\n",
       "      <td>49000000.00</td>\n",
       "      <td>2659816.0</td>\n",
       "      <td>1</td>\n",
       "      <td>0.0</td>\n",
       "      <td>0</td>\n",
       "    </tr>\n",
       "  </tbody>\n",
       "</table>\n",
       "<p>1469024 rows × 7 columns</p>\n",
       "</div>"
      ],
      "text/plain": [
       "          BASE_DT             GCIF_NO      SUM_LMT    SUM_BAL  NOA  SAGA_FLAG  \\\n",
       "0        20231130  EX0000000009531013  39812500.00        0.0    7        NaN   \n",
       "1        20231130  EX0000000009531021  12000000.00        0.0    2        NaN   \n",
       "2        20231130  EX0000000009531039   2250000.00        0.0    2        NaN   \n",
       "3        20231130  EX0000000009531047  44052764.61   480990.0   11        NaN   \n",
       "4        20231130  EX0000000009531054  11598367.00   196734.0    6        NaN   \n",
       "...           ...                 ...          ...        ...  ...        ...   \n",
       "1469019  20241031          G910398577   8000000.00  7610999.0    1        0.0   \n",
       "1469020  20241031          G910398734  35000000.00  1497748.0    1        0.0   \n",
       "1469021  20241031          G910399518  70000000.00  9286706.0    1        0.0   \n",
       "1469022  20241031          G910402478  12000000.00  1287038.0    1        0.0   \n",
       "1469023  20241031          G910407444  49000000.00  2659816.0    1        0.0   \n",
       "\n",
       "         PASTDUE_DAYS_MAX  \n",
       "0                       0  \n",
       "1                       0  \n",
       "2                       0  \n",
       "3                       0  \n",
       "4                       0  \n",
       "...                   ...  \n",
       "1469019                 0  \n",
       "1469020                 0  \n",
       "1469021                 0  \n",
       "1469022                 0  \n",
       "1469023                 0  \n",
       "\n",
       "[1469024 rows x 7 columns]"
      ]
     },
     "execution_count": 248,
     "metadata": {},
     "output_type": "execute_result"
    }
   ],
   "source": [
    "MLsGCIF"
   ]
  },
  {
   "cell_type": "code",
   "execution_count": 249,
   "metadata": {},
   "outputs": [],
   "source": [
    "# map data\n",
    "MLsGCIF['SAGA_FLAG'] = MLsGCIF['SAGA_FLAG'].map({1:'SAGA',0:'NON-SAGA'})\n",
    "MLsGCIF['CC_STATUS'] = MLsGCIF.apply(\n",
    "    lambda x: 'DELINQUENT' if x['PASTDUE_DAYS_MAX']>=30 else 'PERFORMING' if x['PASTDUE_DAYS_MAX']==0 else 'GRACE_PERIOD',\n",
    "    axis=1)"
   ]
  },
  {
   "cell_type": "code",
   "execution_count": 251,
   "metadata": {},
   "outputs": [
    {
     "data": {
      "text/html": [
       "<div>\n",
       "<style scoped>\n",
       "    .dataframe tbody tr th:only-of-type {\n",
       "        vertical-align: middle;\n",
       "    }\n",
       "\n",
       "    .dataframe tbody tr th {\n",
       "        vertical-align: top;\n",
       "    }\n",
       "\n",
       "    .dataframe thead th {\n",
       "        text-align: right;\n",
       "    }\n",
       "</style>\n",
       "<table border=\"1\" class=\"dataframe\">\n",
       "  <thead>\n",
       "    <tr style=\"text-align: right;\">\n",
       "      <th></th>\n",
       "      <th>BASE_DT</th>\n",
       "      <th>GCIF_NO</th>\n",
       "      <th>SUM_LMT</th>\n",
       "      <th>SUM_BAL</th>\n",
       "      <th>NOA</th>\n",
       "      <th>SAGA_FLAG</th>\n",
       "      <th>PASTDUE_DAYS_MAX</th>\n",
       "      <th>CC_STATUS</th>\n",
       "    </tr>\n",
       "  </thead>\n",
       "  <tbody>\n",
       "    <tr>\n",
       "      <th>0</th>\n",
       "      <td>20231130</td>\n",
       "      <td>EX0000000009531013</td>\n",
       "      <td>39812500.00</td>\n",
       "      <td>0.0</td>\n",
       "      <td>7</td>\n",
       "      <td>NaN</td>\n",
       "      <td>0</td>\n",
       "      <td>PERFORMING</td>\n",
       "    </tr>\n",
       "    <tr>\n",
       "      <th>1</th>\n",
       "      <td>20231130</td>\n",
       "      <td>EX0000000009531021</td>\n",
       "      <td>12000000.00</td>\n",
       "      <td>0.0</td>\n",
       "      <td>2</td>\n",
       "      <td>NaN</td>\n",
       "      <td>0</td>\n",
       "      <td>PERFORMING</td>\n",
       "    </tr>\n",
       "    <tr>\n",
       "      <th>2</th>\n",
       "      <td>20231130</td>\n",
       "      <td>EX0000000009531039</td>\n",
       "      <td>2250000.00</td>\n",
       "      <td>0.0</td>\n",
       "      <td>2</td>\n",
       "      <td>NaN</td>\n",
       "      <td>0</td>\n",
       "      <td>PERFORMING</td>\n",
       "    </tr>\n",
       "    <tr>\n",
       "      <th>3</th>\n",
       "      <td>20231130</td>\n",
       "      <td>EX0000000009531047</td>\n",
       "      <td>44052764.61</td>\n",
       "      <td>480990.0</td>\n",
       "      <td>11</td>\n",
       "      <td>NaN</td>\n",
       "      <td>0</td>\n",
       "      <td>PERFORMING</td>\n",
       "    </tr>\n",
       "    <tr>\n",
       "      <th>4</th>\n",
       "      <td>20231130</td>\n",
       "      <td>EX0000000009531054</td>\n",
       "      <td>11598367.00</td>\n",
       "      <td>196734.0</td>\n",
       "      <td>6</td>\n",
       "      <td>NaN</td>\n",
       "      <td>0</td>\n",
       "      <td>PERFORMING</td>\n",
       "    </tr>\n",
       "    <tr>\n",
       "      <th>...</th>\n",
       "      <td>...</td>\n",
       "      <td>...</td>\n",
       "      <td>...</td>\n",
       "      <td>...</td>\n",
       "      <td>...</td>\n",
       "      <td>...</td>\n",
       "      <td>...</td>\n",
       "      <td>...</td>\n",
       "    </tr>\n",
       "    <tr>\n",
       "      <th>1469019</th>\n",
       "      <td>20241031</td>\n",
       "      <td>G910398577</td>\n",
       "      <td>8000000.00</td>\n",
       "      <td>7610999.0</td>\n",
       "      <td>1</td>\n",
       "      <td>NON-SAGA</td>\n",
       "      <td>0</td>\n",
       "      <td>PERFORMING</td>\n",
       "    </tr>\n",
       "    <tr>\n",
       "      <th>1469020</th>\n",
       "      <td>20241031</td>\n",
       "      <td>G910398734</td>\n",
       "      <td>35000000.00</td>\n",
       "      <td>1497748.0</td>\n",
       "      <td>1</td>\n",
       "      <td>NON-SAGA</td>\n",
       "      <td>0</td>\n",
       "      <td>PERFORMING</td>\n",
       "    </tr>\n",
       "    <tr>\n",
       "      <th>1469021</th>\n",
       "      <td>20241031</td>\n",
       "      <td>G910399518</td>\n",
       "      <td>70000000.00</td>\n",
       "      <td>9286706.0</td>\n",
       "      <td>1</td>\n",
       "      <td>NON-SAGA</td>\n",
       "      <td>0</td>\n",
       "      <td>PERFORMING</td>\n",
       "    </tr>\n",
       "    <tr>\n",
       "      <th>1469022</th>\n",
       "      <td>20241031</td>\n",
       "      <td>G910402478</td>\n",
       "      <td>12000000.00</td>\n",
       "      <td>1287038.0</td>\n",
       "      <td>1</td>\n",
       "      <td>NON-SAGA</td>\n",
       "      <td>0</td>\n",
       "      <td>PERFORMING</td>\n",
       "    </tr>\n",
       "    <tr>\n",
       "      <th>1469023</th>\n",
       "      <td>20241031</td>\n",
       "      <td>G910407444</td>\n",
       "      <td>49000000.00</td>\n",
       "      <td>2659816.0</td>\n",
       "      <td>1</td>\n",
       "      <td>NON-SAGA</td>\n",
       "      <td>0</td>\n",
       "      <td>PERFORMING</td>\n",
       "    </tr>\n",
       "  </tbody>\n",
       "</table>\n",
       "<p>1469024 rows × 8 columns</p>\n",
       "</div>"
      ],
      "text/plain": [
       "          BASE_DT             GCIF_NO      SUM_LMT    SUM_BAL  NOA SAGA_FLAG  \\\n",
       "0        20231130  EX0000000009531013  39812500.00        0.0    7       NaN   \n",
       "1        20231130  EX0000000009531021  12000000.00        0.0    2       NaN   \n",
       "2        20231130  EX0000000009531039   2250000.00        0.0    2       NaN   \n",
       "3        20231130  EX0000000009531047  44052764.61   480990.0   11       NaN   \n",
       "4        20231130  EX0000000009531054  11598367.00   196734.0    6       NaN   \n",
       "...           ...                 ...          ...        ...  ...       ...   \n",
       "1469019  20241031          G910398577   8000000.00  7610999.0    1  NON-SAGA   \n",
       "1469020  20241031          G910398734  35000000.00  1497748.0    1  NON-SAGA   \n",
       "1469021  20241031          G910399518  70000000.00  9286706.0    1  NON-SAGA   \n",
       "1469022  20241031          G910402478  12000000.00  1287038.0    1  NON-SAGA   \n",
       "1469023  20241031          G910407444  49000000.00  2659816.0    1  NON-SAGA   \n",
       "\n",
       "         PASTDUE_DAYS_MAX   CC_STATUS  \n",
       "0                       0  PERFORMING  \n",
       "1                       0  PERFORMING  \n",
       "2                       0  PERFORMING  \n",
       "3                       0  PERFORMING  \n",
       "4                       0  PERFORMING  \n",
       "...                   ...         ...  \n",
       "1469019                 0  PERFORMING  \n",
       "1469020                 0  PERFORMING  \n",
       "1469021                 0  PERFORMING  \n",
       "1469022                 0  PERFORMING  \n",
       "1469023                 0  PERFORMING  \n",
       "\n",
       "[1469024 rows x 8 columns]"
      ]
     },
     "execution_count": 251,
     "metadata": {},
     "output_type": "execute_result"
    }
   ],
   "source": [
    "MLsGCIF"
   ]
  },
  {
   "cell_type": "code",
   "execution_count": 261,
   "metadata": {},
   "outputs": [],
   "source": [
    "# Total all GCIF aggregate\n",
    "TotalGCIFCount = MLsGCIF.groupby('BASE_DT').agg(\n",
    "    CUST_NUM=('GCIF_NO','count'),\n",
    "    TOTAL_LMT=('SUM_LMT','sum'),\n",
    "    TOTAL_BAL=('SUM_BAL','sum'),\n",
    "    TOTAL_NOA=('NOA','sum'),\n",
    ").reset_index()\n",
    "TotalGCIFCount['MICRO_SEGMENT'] = 'ALL'\n",
    "TotalGCIFCount['CATEGORY'] = 'ALL'"
   ]
  },
  {
   "cell_type": "code",
   "execution_count": 262,
   "metadata": {},
   "outputs": [],
   "source": [
    "# Total delinquent GCIF aggregate\n",
    "TotalDeliGCIFCount = MLsGCIF[MLsGCIF['CC_STATUS']=='DELINQUENT'].groupby('BASE_DT').agg(\n",
    "    CUST_NUM=('GCIF_NO','count'),\n",
    "    TOTAL_LMT=('SUM_LMT','sum'),\n",
    "    TOTAL_BAL=('SUM_BAL','sum'),\n",
    "    TOTAL_NOA=('NOA','sum'),\n",
    ").reset_index()\n",
    "TotalDeliGCIFCount['MICRO_SEGMENT'] = 'ALL'\n",
    "TotalDeliGCIFCount['CATEGORY'] = 'DELINQUENT'"
   ]
  },
  {
   "cell_type": "code",
   "execution_count": 263,
   "metadata": {},
   "outputs": [],
   "source": [
    "# Total SAGA GCIF aggregate\n",
    "SAGAGCIFCount = MLsGCIF[MLsGCIF['SAGA_FLAG']=='SAGA'].groupby('BASE_DT').agg(\n",
    "    CUST_NUM=('GCIF_NO','count'),\n",
    "    TOTAL_LMT=('SUM_LMT','sum'),\n",
    "    TOTAL_BAL=('SUM_BAL','sum'),\n",
    "    TOTAL_NOA=('NOA','sum'),\n",
    ").reset_index()\n",
    "SAGAGCIFCount['MICRO_SEGMENT'] = 'SAGA'\n",
    "SAGAGCIFCount['CATEGORY'] = 'ALL'"
   ]
  },
  {
   "cell_type": "code",
   "execution_count": 264,
   "metadata": {},
   "outputs": [],
   "source": [
    "# Total SAGA delinquent GCIF aggregate\n",
    "SAGADeliGCIFCount = MLsGCIF[(MLsGCIF['SAGA_FLAG']=='SAGA')&(MLsGCIF['CC_STATUS']=='DELINQUENT')].groupby('BASE_DT').agg(\n",
    "    CUST_NUM=('GCIF_NO','count'),\n",
    "    TOTAL_LMT=('SUM_LMT','sum'),\n",
    "    TOTAL_BAL=('SUM_BAL','sum'),\n",
    "    TOTAL_NOA=('NOA','sum'),\n",
    ").reset_index()\n",
    "SAGADeliGCIFCount['MICRO_SEGMENT'] = 'SAGA'\n",
    "SAGADeliGCIFCount['CATEGORY'] = 'DELINQUENT'"
   ]
  },
  {
   "cell_type": "code",
   "execution_count": 265,
   "metadata": {},
   "outputs": [
    {
     "data": {
      "text/html": [
       "<div>\n",
       "<style scoped>\n",
       "    .dataframe tbody tr th:only-of-type {\n",
       "        vertical-align: middle;\n",
       "    }\n",
       "\n",
       "    .dataframe tbody tr th {\n",
       "        vertical-align: top;\n",
       "    }\n",
       "\n",
       "    .dataframe thead th {\n",
       "        text-align: right;\n",
       "    }\n",
       "</style>\n",
       "<table border=\"1\" class=\"dataframe\">\n",
       "  <thead>\n",
       "    <tr style=\"text-align: right;\">\n",
       "      <th></th>\n",
       "      <th>BASE_DT</th>\n",
       "      <th>CUST_NUM</th>\n",
       "      <th>TOTAL_LMT</th>\n",
       "      <th>TOTAL_BAL</th>\n",
       "      <th>TOTAL_NOA</th>\n",
       "      <th>MICRO_SEGMENT</th>\n",
       "      <th>CATEGORY</th>\n",
       "    </tr>\n",
       "  </thead>\n",
       "  <tbody>\n",
       "    <tr>\n",
       "      <th>0</th>\n",
       "      <td>20231130</td>\n",
       "      <td>123670</td>\n",
       "      <td>3.749174e+12</td>\n",
       "      <td>1.561560e+12</td>\n",
       "      <td>187885</td>\n",
       "      <td>ALL</td>\n",
       "      <td>ALL</td>\n",
       "    </tr>\n",
       "    <tr>\n",
       "      <th>1</th>\n",
       "      <td>20231229</td>\n",
       "      <td>123424</td>\n",
       "      <td>3.775570e+12</td>\n",
       "      <td>1.562580e+12</td>\n",
       "      <td>186569</td>\n",
       "      <td>ALL</td>\n",
       "      <td>ALL</td>\n",
       "    </tr>\n",
       "    <tr>\n",
       "      <th>2</th>\n",
       "      <td>20240131</td>\n",
       "      <td>122366</td>\n",
       "      <td>3.848475e+12</td>\n",
       "      <td>1.603963e+12</td>\n",
       "      <td>183281</td>\n",
       "      <td>ALL</td>\n",
       "      <td>ALL</td>\n",
       "    </tr>\n",
       "    <tr>\n",
       "      <th>3</th>\n",
       "      <td>20240229</td>\n",
       "      <td>122966</td>\n",
       "      <td>3.925737e+12</td>\n",
       "      <td>1.629879e+12</td>\n",
       "      <td>182894</td>\n",
       "      <td>ALL</td>\n",
       "      <td>ALL</td>\n",
       "    </tr>\n",
       "    <tr>\n",
       "      <th>4</th>\n",
       "      <td>20240328</td>\n",
       "      <td>123125</td>\n",
       "      <td>3.935050e+12</td>\n",
       "      <td>1.642677e+12</td>\n",
       "      <td>182350</td>\n",
       "      <td>ALL</td>\n",
       "      <td>ALL</td>\n",
       "    </tr>\n",
       "    <tr>\n",
       "      <th>5</th>\n",
       "      <td>20240430</td>\n",
       "      <td>122583</td>\n",
       "      <td>3.977078e+12</td>\n",
       "      <td>1.694901e+12</td>\n",
       "      <td>180496</td>\n",
       "      <td>ALL</td>\n",
       "      <td>ALL</td>\n",
       "    </tr>\n",
       "    <tr>\n",
       "      <th>6</th>\n",
       "      <td>20240531</td>\n",
       "      <td>122389</td>\n",
       "      <td>4.037320e+12</td>\n",
       "      <td>1.699164e+12</td>\n",
       "      <td>180056</td>\n",
       "      <td>ALL</td>\n",
       "      <td>ALL</td>\n",
       "    </tr>\n",
       "    <tr>\n",
       "      <th>7</th>\n",
       "      <td>20240628</td>\n",
       "      <td>122319</td>\n",
       "      <td>4.130127e+12</td>\n",
       "      <td>1.758796e+12</td>\n",
       "      <td>179964</td>\n",
       "      <td>ALL</td>\n",
       "      <td>ALL</td>\n",
       "    </tr>\n",
       "    <tr>\n",
       "      <th>8</th>\n",
       "      <td>20240731</td>\n",
       "      <td>121272</td>\n",
       "      <td>4.370452e+12</td>\n",
       "      <td>1.771556e+12</td>\n",
       "      <td>177991</td>\n",
       "      <td>ALL</td>\n",
       "      <td>ALL</td>\n",
       "    </tr>\n",
       "    <tr>\n",
       "      <th>9</th>\n",
       "      <td>20240829</td>\n",
       "      <td>121461</td>\n",
       "      <td>4.406276e+12</td>\n",
       "      <td>1.802961e+12</td>\n",
       "      <td>178580</td>\n",
       "      <td>ALL</td>\n",
       "      <td>ALL</td>\n",
       "    </tr>\n",
       "    <tr>\n",
       "      <th>10</th>\n",
       "      <td>20240930</td>\n",
       "      <td>121281</td>\n",
       "      <td>4.406244e+12</td>\n",
       "      <td>1.852019e+12</td>\n",
       "      <td>177997</td>\n",
       "      <td>ALL</td>\n",
       "      <td>ALL</td>\n",
       "    </tr>\n",
       "    <tr>\n",
       "      <th>11</th>\n",
       "      <td>20241031</td>\n",
       "      <td>122168</td>\n",
       "      <td>4.486219e+12</td>\n",
       "      <td>1.862254e+12</td>\n",
       "      <td>179387</td>\n",
       "      <td>ALL</td>\n",
       "      <td>ALL</td>\n",
       "    </tr>\n",
       "  </tbody>\n",
       "</table>\n",
       "</div>"
      ],
      "text/plain": [
       "     BASE_DT  CUST_NUM     TOTAL_LMT     TOTAL_BAL  TOTAL_NOA MICRO_SEGMENT  \\\n",
       "0   20231130    123670  3.749174e+12  1.561560e+12     187885           ALL   \n",
       "1   20231229    123424  3.775570e+12  1.562580e+12     186569           ALL   \n",
       "2   20240131    122366  3.848475e+12  1.603963e+12     183281           ALL   \n",
       "3   20240229    122966  3.925737e+12  1.629879e+12     182894           ALL   \n",
       "4   20240328    123125  3.935050e+12  1.642677e+12     182350           ALL   \n",
       "5   20240430    122583  3.977078e+12  1.694901e+12     180496           ALL   \n",
       "6   20240531    122389  4.037320e+12  1.699164e+12     180056           ALL   \n",
       "7   20240628    122319  4.130127e+12  1.758796e+12     179964           ALL   \n",
       "8   20240731    121272  4.370452e+12  1.771556e+12     177991           ALL   \n",
       "9   20240829    121461  4.406276e+12  1.802961e+12     178580           ALL   \n",
       "10  20240930    121281  4.406244e+12  1.852019e+12     177997           ALL   \n",
       "11  20241031    122168  4.486219e+12  1.862254e+12     179387           ALL   \n",
       "\n",
       "   CATEGORY  \n",
       "0       ALL  \n",
       "1       ALL  \n",
       "2       ALL  \n",
       "3       ALL  \n",
       "4       ALL  \n",
       "5       ALL  \n",
       "6       ALL  \n",
       "7       ALL  \n",
       "8       ALL  \n",
       "9       ALL  \n",
       "10      ALL  \n",
       "11      ALL  "
      ]
     },
     "execution_count": 265,
     "metadata": {},
     "output_type": "execute_result"
    }
   ],
   "source": [
    "TotalGCIFCount"
   ]
  },
  {
   "cell_type": "markdown",
   "metadata": {},
   "source": [
    "### a. SAGA vs ALL Bad Debt"
   ]
  },
  {
   "cell_type": "code",
   "execution_count": null,
   "metadata": {},
   "outputs": [
    {
     "data": {
      "text/plain": [
       "<Axes: title={'center': 'DELINQUENCY_COUNT'}, xlabel='BASE_DT', ylabel='COUNT'>"
      ]
     },
     "execution_count": 272,
     "metadata": {},
     "output_type": "execute_result"
    },
    {
     "data": {
      "image/png": "[encoded data removed]",
      "text/plain": [
       "<Figure size 1000x600 with 1 Axes>"
      ]
     },
     "metadata": {},
     "output_type": "display_data"
    }
   ],
   "source": [
    "# concat data\n",
    "GCIFPlot1 = pd.concat([SAGADeliGCIFCount,TotalDeliGCIFCount])\n",
    "GCIFPlot1['BASE_DT'] = GCIFPlot1['BASE_DT'].str[2:6]\n",
    "\n",
    "# Plot delinquency count per month\n",
    "plt.figure(figsize=(10,6))\n",
    "plt.title(\"DELINQUENCY_COUNT\")\n",
    "plt.xlabel(\"BASE_DT\")\n",
    "plt.ylabel(\"COUNT\")\n",
    "plt.ylim((0,2300))\n",
    "sns.lineplot(data=), x=\"BASE_DT\", y='CUST_NUM', hue='MICRO_SEGMENT', marker=\"o\")"
   ]
  },
  {
   "cell_type": "code",
   "execution_count": null,
   "metadata": {},
   "outputs": [],
   "source": [
    "# TotalDeliGCIFCount\n",
    "# SAGADeliGCIFCount"
   ]
  },
  {
   "cell_type": "markdown",
   "metadata": {},
   "source": [
    "1. Hitung total bad debt SAGA all month\n",
    "2. Bandingkan bad debt SAGA vs all other CC\n",
    "2. Bandingkan "
   ]
  }
 ],
 "metadata": {
  "kernelspec": {
   "display_name": "Python 3",
   "language": "python",
   "name": "python3"
  },
  "language_info": {
   "codemirror_mode": {
    "name": "ipython",
    "version": 3
   },
   "file_extension": ".py",
   "mimetype": "text/x-python",
   "name": "python",
   "nbconvert_exporter": "python",
   "pygments_lexer": "ipython3",
   "version": "3.12.5"
  }
 },
 "nbformat": 4,
 "nbformat_minor": 2
}
