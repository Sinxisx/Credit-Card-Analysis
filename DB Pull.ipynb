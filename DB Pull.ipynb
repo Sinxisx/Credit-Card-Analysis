{
 "cells": [
  {
   "cell_type": "code",
   "execution_count": 10,
   "metadata": {},
   "outputs": [],
   "source": [
    "import pandas as pd\n",
    "import numpy as np\n",
    "import oracledb\n",
    "from sqlalchemy import create_engine\n",
    "import os\n",
    "import glob\n",
    "pd.set_option('display.max_columns',100)\n",
    "import time\n",
    "import seaborn as sns\n",
    "import matplotlib.pyplot as plt"
   ]
  },
  {
   "cell_type": "markdown",
   "metadata": {},
   "source": [
    "- Perfiorming: 0 DPD\n",
    "- Grace Period: 1-29 DPD\n",
    "- Delinquents: Accounts with >=30 days DPD"
   ]
  },
  {
   "cell_type": "markdown",
   "metadata": {},
   "source": [
    "# A. Query Data"
   ]
  },
  {
   "cell_type": "markdown",
   "metadata": {},
   "source": [
    "## 1. DBA Connection"
   ]
  },
  {
   "cell_type": "code",
   "execution_count": 11,
   "metadata": {},
   "outputs": [],
   "source": [
    "# credentials\n",
    "usernameDBA = os.environ['DBA_USR']\n",
    "passwordDBA = os.environ['DBA_PW']\n",
    "dsnDBA = '10.220.50.121:1661/ANALYTIC'"
   ]
  },
  {
   "cell_type": "code",
   "execution_count": 12,
   "metadata": {},
   "outputs": [],
   "source": [
    "# create connection\n",
    "connectionDBA = oracledb.connect(user=usernameDBA, password=passwordDBA, dsn=dsnDBA)"
   ]
  },
  {
   "cell_type": "code",
   "execution_count": 13,
   "metadata": {},
   "outputs": [],
   "source": [
    "# create engine\n",
    "engineDBA = create_engine('oracle+oracledb://', creator=lambda: connectionDBA)"
   ]
  },
  {
   "cell_type": "markdown",
   "metadata": {},
   "source": [
    "## 2. EDWB Connection"
   ]
  },
  {
   "cell_type": "code",
   "execution_count": 15,
   "metadata": {},
   "outputs": [],
   "source": [
    "# credentials\n",
    "usernameEDWB = os.environ['UID']\n",
    "passwordEDWB = os.environ['EDWB_PW']\n",
    "dsnEDWB = '172.16.2.28:1521/brgprod'"
   ]
  },
  {
   "cell_type": "code",
   "execution_count": 16,
   "metadata": {},
   "outputs": [],
   "source": [
    "# create connection\n",
    "connectionEDWB = oracledb.connect(user=usernameEDWB, password=passwordEDWB, dsn=dsnEDWB)"
   ]
  },
  {
   "cell_type": "code",
   "execution_count": 18,
   "metadata": {},
   "outputs": [],
   "source": [
    "# create engine\n",
    "engineEDWB = create_engine('oracle+oracledb://', creator=lambda: connectionEDWB)"
   ]
  },
  {
   "cell_type": "markdown",
   "metadata": {},
   "source": [
    "## 3. Run Query"
   ]
  },
  {
   "cell_type": "code",
   "execution_count": 14,
   "metadata": {},
   "outputs": [],
   "source": [
    "# create list of all dates\n",
    "allDates = ['20241129','20241031','20240930','20240829','20240731','20240628','20240531',\n",
    "            '20240430','20240328','20240229','20240131','20231229','20231130']\n",
    "# no dpd for <202404\n",
    "# ['20241129','20241031','20240930','20240829','20240731','20240628','20240531',\n",
    "#             '20240430','20240328','20240229','20240131','20231229','20231130']"
   ]
  },
  {
   "cell_type": "code",
   "execution_count": 11,
   "metadata": {},
   "outputs": [],
   "source": [
    "# open sql file Customer Portfolio\n",
    "with open(\"CCPull_CP.sql\", 'r') as file:\n",
    "    query_CP = file.read()\n",
    "\n",
    "# open sql file Master Lending\n",
    "with open(\"CCPull_ML.sql\", 'r') as file:\n",
    "    query_ML = file.read()\n",
    "\n",
    "# open sql file Delq_History \n",
    "with open(\"Delq_Hist.sql\", 'r') as file:\n",
    "    query_DELQ = file.read()"
   ]
  },
  {
   "cell_type": "code",
   "execution_count": null,
   "metadata": {},
   "outputs": [],
   "source": [
    "# open sql file Master Lending grouped\n",
    "with open(\"CCPull_ML_GPD.sql\", 'r') as file:\n",
    "    query_ML_SUM = file.read()"
   ]
  },
  {
   "cell_type": "code",
   "execution_count": 12,
   "metadata": {},
   "outputs": [
    {
     "name": "stdout",
     "output_type": "stream",
     "text": [
      "Running CP Query 20241129\n",
      "CP run\n",
      "CP 20241129 queried successfully\n",
      "Running CP Query 20241031\n",
      "CP run\n",
      "CP 20241031 queried successfully\n",
      "Running CP Query 20240930\n",
      "CP run\n",
      "CP 20240930 queried successfully\n",
      "Running CP Query 20240829\n",
      "CP run\n",
      "CP 20240829 queried successfully\n",
      "Running CP Query 20240731\n",
      "CP run\n",
      "CP 20240731 queried successfully\n",
      "Running CP Query 20240628\n",
      "CP run\n",
      "CP 20240628 queried successfully\n",
      "Running CP Query 20240531\n",
      "CP run\n",
      "CP 20240531 queried successfully\n",
      "Running CP Query 20240430\n",
      "CP run\n",
      "CP 20240430 queried successfully\n",
      "Running CP Query 20240328\n",
      "CP run\n",
      "CP 20240328 queried successfully\n",
      "Running CP Query 20240229\n",
      "CP run\n",
      "CP 20240229 queried successfully\n",
      "Running CP Query 20240131\n",
      "CP run\n",
      "CP 20240131 queried successfully\n",
      "Running CP Query 20231229\n",
      "CP run\n",
      "CP 20231229 queried successfully\n",
      "Running CP Query 20231130\n",
      "CP run\n",
      "CP 20231130 queried successfully\n"
     ]
    }
   ],
   "source": [
    "# RUN CP\n",
    "for date in allDates:\n",
    "    yearmonth = date[2:6]\n",
    "    dateAlt = date[2:]\n",
    "    # Query CP\n",
    "    try:\n",
    "        # print in case of errors\n",
    "        print(f'Running CP Query {date}')\n",
    "\n",
    "        # open and read the file as a single buffer\n",
    "        sqlQuery = query_CP.format(dt=date, ym=yearmonth)\n",
    "\n",
    "        # run query and store data in df\n",
    "        print('CP run')\n",
    "        with engineDBA.connect() as connection:\n",
    "            CP = pd.read_sql(sqlQuery, connection) \n",
    "        print(f'CP {date} queried successfully')\n",
    "\n",
    "        # change column names into UPPER CASE\n",
    "        CP.columns = [x.upper() for x in CP.columns]\n",
    "    except Exception as e:\n",
    "        print(e)\n",
    "        CP = pd.DataFrame()\n",
    "    finally:\n",
    "        CP.to_pickle(f'D:/Work/SAGA CC Bad Debt/Data/CP/CP_{date}.pkl')\n"
   ]
  },
  {
   "cell_type": "code",
   "execution_count": null,
   "metadata": {},
   "outputs": [
    {
     "name": "stdout",
     "output_type": "stream",
     "text": [
      "Running CP Query 20240628\n",
      "CP run\n",
      "CP 20240628 queried successfully\n"
     ]
    }
   ],
   "source": [
    "# # RUN CP\n",
    "# try:\n",
    "#     # print in case of errors\n",
    "#     print(f'Running CP Query 20240628')\n",
    "\n",
    "#     # open and read the file as a single buffer\n",
    "#     sqlQuery = query_CP.format(dt='20240626', ym='2406')\n",
    "\n",
    "#     # run query and store data in df\n",
    "#     print('CP run')\n",
    "#     with engineDBA.connect() as connection:\n",
    "#         CP = pd.read_sql(sqlQuery, connection) \n",
    "#     print(f'CP 20240628 queried successfully')\n",
    "\n",
    "#     # change column names into UPPER CASE\n",
    "#     CP.columns = [x.upper() for x in CP.columns]\n",
    "# except Exception as e:\n",
    "#     print(e)\n",
    "#     CP = pd.DataFrame()\n",
    "# finally:\n",
    "#     CP.to_pickle(f'D:/Work/SAGA CC Bad Debt/Data/CP/CP_20240628.pkl')\n"
   ]
  },
  {
   "cell_type": "code",
   "execution_count": 13,
   "metadata": {},
   "outputs": [
    {
     "name": "stdout",
     "output_type": "stream",
     "text": [
      "Running ML Query 20241129\n",
      "ML run\n",
      "ML 20241129 queried successfully\n",
      "Running ML Query 20241031\n",
      "ML run\n",
      "ML 20241031 queried successfully\n",
      "Running ML Query 20240930\n",
      "ML run\n",
      "ML 20240930 queried successfully\n",
      "Running ML Query 20240829\n",
      "ML run\n",
      "ML 20240829 queried successfully\n",
      "Running ML Query 20240731\n",
      "ML run\n",
      "ML 20240731 queried successfully\n",
      "Running ML Query 20240628\n",
      "ML run\n",
      "ML 20240628 queried successfully\n",
      "Running ML Query 20240531\n",
      "ML run\n",
      "ML 20240531 queried successfully\n",
      "Running ML Query 20240430\n",
      "ML run\n",
      "ML 20240430 queried successfully\n",
      "Running ML Query 20240328\n",
      "ML run\n",
      "ML 20240328 queried successfully\n",
      "Running ML Query 20240229\n",
      "ML run\n",
      "ML 20240229 queried successfully\n",
      "Running ML Query 20240131\n",
      "ML run\n",
      "ML 20240131 queried successfully\n",
      "Running ML Query 20231229\n",
      "ML run\n",
      "ML 20231229 queried successfully\n",
      "Running ML Query 20231130\n",
      "ML run\n",
      "ML 20231130 queried successfully\n"
     ]
    }
   ],
   "source": [
    "# RUN ML\n",
    "for date in allDates:\n",
    "    yearmonth = date[2:6]\n",
    "    dateAlt = date[2:]\n",
    "    # Query ML\n",
    "    try:\n",
    "        # print in case of errors\n",
    "        print(f'Running ML Query {date}')\n",
    "\n",
    "        # open and read the file as a single buffer\n",
    "        sqlQuery = query_ML.format(dt=date, ym=yearmonth)\n",
    "\n",
    "        # run query and store data in df\n",
    "        print('ML run')\n",
    "        with engineDBA.connect() as connection:\n",
    "            ML = pd.read_sql(sqlQuery, connection) \n",
    "        print(f'ML {date} queried successfully')\n",
    "\n",
    "        # change column names into UPPER CASE\n",
    "        ML.columns = [x.upper() for x in ML.columns]\n",
    "    except Exception as e:\n",
    "        print(e)\n",
    "        ML = pd.DataFrame()\n",
    "    finally:\n",
    "        ML.to_pickle(f'D:/Work/SAGA CC Bad Debt/Data/ML/ML_{date}.pkl')"
   ]
  },
  {
   "cell_type": "code",
   "execution_count": 16,
   "metadata": {},
   "outputs": [
    {
     "name": "stdout",
     "output_type": "stream",
     "text": [
      "Running ML Sum Query 20241129\n",
      "ML Sum run\n",
      "ML Sum 20241129 queried successfully\n",
      "Running ML Sum Query 20241031\n",
      "ML Sum run\n",
      "ML Sum 20241031 queried successfully\n",
      "Running ML Sum Query 20240930\n",
      "ML Sum run\n",
      "ML Sum 20240930 queried successfully\n",
      "Running ML Sum Query 20240829\n",
      "ML Sum run\n",
      "ML Sum 20240829 queried successfully\n",
      "Running ML Sum Query 20240731\n",
      "ML Sum run\n",
      "ML Sum 20240731 queried successfully\n",
      "Running ML Sum Query 20240628\n",
      "ML Sum run\n",
      "ML Sum 20240628 queried successfully\n",
      "Running ML Sum Query 20240531\n",
      "ML Sum run\n",
      "ML Sum 20240531 queried successfully\n",
      "Running ML Sum Query 20240430\n",
      "ML Sum run\n",
      "ML Sum 20240430 queried successfully\n",
      "Running ML Sum Query 20240328\n",
      "ML Sum run\n",
      "ML Sum 20240328 queried successfully\n",
      "Running ML Sum Query 20240229\n",
      "ML Sum run\n",
      "ML Sum 20240229 queried successfully\n",
      "Running ML Sum Query 20240131\n",
      "ML Sum run\n",
      "ML Sum 20240131 queried successfully\n",
      "Running ML Sum Query 20231229\n",
      "ML Sum run\n",
      "ML Sum 20231229 queried successfully\n",
      "Running ML Sum Query 20231130\n",
      "ML Sum run\n",
      "ML Sum 20231130 queried successfully\n"
     ]
    }
   ],
   "source": [
    "# RUN ML\n",
    "for date in allDates:\n",
    "    yearmonth = date[2:6]\n",
    "    dateAlt = date[2:]\n",
    "    # Query ML\n",
    "    try:\n",
    "        # print in case of errors\n",
    "        print(f'Running ML Sum Query {date}')\n",
    "\n",
    "        # open and read the file as a single buffer\n",
    "        sqlQuery = query_ML_SUM.format(dt=date, ym=yearmonth)\n",
    "\n",
    "        # run query and store data in df\n",
    "        print('ML Sum run')\n",
    "        with engineDBA.connect() as connection:\n",
    "            MLSum = pd.read_sql(sqlQuery, connection) \n",
    "        print(f'ML Sum {date} queried successfully')\n",
    "\n",
    "        # change column names into UPPER CASE\n",
    "        MLSum.columns = [x.upper() for x in MLSum.columns]\n",
    "    except Exception as e:\n",
    "        print(e)\n",
    "        MLSum = pd.DataFrame()\n",
    "    finally:\n",
    "        MLSum.to_pickle(f'D:/Work/SAGA CC Bad Debt/Data/ML_Sum/MLSum_{date}.pkl')"
   ]
  },
  {
   "cell_type": "code",
   "execution_count": 17,
   "metadata": {},
   "outputs": [
    {
     "name": "stdout",
     "output_type": "stream",
     "text": [
      "Running ML Sum Query 20240626\n",
      "ML Sum run\n",
      "ML Sum 20240626 queried successfully\n"
     ]
    }
   ],
   "source": [
    "date = '20240626'\n",
    "yearmonth = date[2:6]\n",
    "dateAlt = date[2:]\n",
    "# Query ML\n",
    "try:\n",
    "    # print in case of errors\n",
    "    print(f'Running ML Sum Query {date}')\n",
    "\n",
    "    # open and read the file as a single buffer\n",
    "    sqlQuery = query_ML_SUM.format(dt=date, ym=yearmonth)\n",
    "\n",
    "    # run query and store data in df\n",
    "    print('ML Sum run')\n",
    "    with engineDBA.connect() as connection:\n",
    "        MLSum = pd.read_sql(sqlQuery, connection) \n",
    "    print(f'ML Sum {date} queried successfully')\n",
    "\n",
    "    # change column names into UPPER CASE\n",
    "    MLSum.columns = [x.upper() for x in MLSum.columns]\n",
    "except Exception as e:\n",
    "    print(e)\n",
    "    MLSum = pd.DataFrame()\n",
    "finally:\n",
    "    MLSum.to_pickle(f'D:/Work/SAGA CC Bad Debt/Data/ML_Sum/MLSum_{date}.pkl')"
   ]
  },
  {
   "cell_type": "code",
   "execution_count": 19,
   "metadata": {},
   "outputs": [
    {
     "name": "stdout",
     "output_type": "stream",
     "text": [
      "Running Delq/Payment Ratio Query 20241129\n",
      "Delq/Payment Ratio run\n",
      "Delq/Payment Ratio 20241129 queried successfully\n",
      "Running Delq/Payment Ratio Query 20241031\n",
      "Delq/Payment Ratio run\n",
      "Delq/Payment Ratio 20241031 queried successfully\n",
      "Running Delq/Payment Ratio Query 20240930\n",
      "Delq/Payment Ratio run\n",
      "Delq/Payment Ratio 20240930 queried successfully\n",
      "Running Delq/Payment Ratio Query 20240829\n",
      "Delq/Payment Ratio run\n",
      "Delq/Payment Ratio 20240829 queried successfully\n",
      "Running Delq/Payment Ratio Query 20240731\n",
      "Delq/Payment Ratio run\n",
      "Delq/Payment Ratio 20240731 queried successfully\n",
      "Running Delq/Payment Ratio Query 20240628\n",
      "Delq/Payment Ratio run\n",
      "Delq/Payment Ratio 20240628 queried successfully\n",
      "Running Delq/Payment Ratio Query 20240531\n",
      "Delq/Payment Ratio run\n",
      "Delq/Payment Ratio 20240531 queried successfully\n",
      "Running Delq/Payment Ratio Query 20240430\n",
      "Delq/Payment Ratio run\n",
      "Delq/Payment Ratio 20240430 queried successfully\n",
      "Running Delq/Payment Ratio Query 20240328\n",
      "Delq/Payment Ratio run\n",
      "Delq/Payment Ratio 20240328 queried successfully\n",
      "Running Delq/Payment Ratio Query 20240229\n",
      "Delq/Payment Ratio run\n",
      "Delq/Payment Ratio 20240229 queried successfully\n",
      "Running Delq/Payment Ratio Query 20240131\n",
      "Delq/Payment Ratio run\n",
      "Delq/Payment Ratio 20240131 queried successfully\n",
      "Running Delq/Payment Ratio Query 20231229\n",
      "Delq/Payment Ratio run\n",
      "Delq/Payment Ratio 20231229 queried successfully\n",
      "Running Delq/Payment Ratio Query 20231130\n",
      "Delq/Payment Ratio run\n",
      "Delq/Payment Ratio 20231130 queried successfully\n"
     ]
    }
   ],
   "source": [
    "# RUN DELQ\n",
    "for date in allDates:\n",
    "    yearmonth = date[2:6]\n",
    "    dateAlt = date[2:]\n",
    "    # query payment ratio\n",
    "    try:\n",
    "        # print in case of errors\n",
    "        print(f'Running Delq/Payment Ratio Query {date}')\n",
    "\n",
    "        # open and read the file as a single buffer\n",
    "        sqlQuery = query_DELQ.format(dt=dateAlt, ym=yearmonth)\n",
    "\n",
    "        # run query and store data in df\n",
    "        print('Delq/Payment Ratio run')\n",
    "        with engineEDWB.connect() as connection:\n",
    "            PR = pd.read_sql(sqlQuery, connection) \n",
    "        print(f'Delq/Payment Ratio {date} queried successfully')\n",
    "\n",
    "        # change column names into UPPER CASE\n",
    "        PR.columns = [x.upper() for x in PR.columns]\n",
    "    except Exception as e:\n",
    "            print(e)\n",
    "            PR = pd.DataFrame()\n",
    "    finally:\n",
    "        ML.to_pickle(f'D:/Work/SAGA CC Bad Debt/Data/PR/PR_{date}.pkl')"
   ]
  }
 ],
 "metadata": {
  "kernelspec": {
   "display_name": "Python 3",
   "language": "python",
   "name": "python3"
  },
  "language_info": {
   "codemirror_mode": {
    "name": "ipython",
    "version": 3
   },
   "file_extension": ".py",
   "mimetype": "text/x-python",
   "name": "python",
   "nbconvert_exporter": "python",
   "pygments_lexer": "ipython3",
   "version": "3.12.5"
  }
 },
 "nbformat": 4,
 "nbformat_minor": 2
}
